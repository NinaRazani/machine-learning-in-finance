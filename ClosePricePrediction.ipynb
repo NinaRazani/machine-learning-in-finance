{
 "cells": [
  {
   "cell_type": "markdown",
   "metadata": {},
   "source": [
    "# NSE Stock Market Prediction Using Deep-Learning Models paper"
   ]
  },
  {
   "cell_type": "code",
   "execution_count": 102,
   "metadata": {},
   "outputs": [],
   "source": [
    "import numpy as np\n",
    "import pandas as pd\n",
    "import matplotlib.pyplot as plt\n",
    "import seaborn as sns"
   ]
  },
  {
   "cell_type": "code",
   "execution_count": 2,
   "metadata": {},
   "outputs": [],
   "source": [
    "import warnings\n",
    "warnings.filterwarnings(\"ignore\")"
   ]
  },
  {
   "cell_type": "markdown",
   "metadata": {},
   "source": [
    "# load tatamotors market data as train dataset"
   ]
  },
  {
   "cell_type": "code",
   "execution_count": 3,
   "metadata": {},
   "outputs": [],
   "source": [
    "df1= pd.read_csv('Quote-Equity-TATAMOTORS-EQ-01-01-1996-to-31-12-1997.csv')"
   ]
  },
  {
   "cell_type": "code",
   "execution_count": 4,
   "metadata": {},
   "outputs": [],
   "source": [
    "df2= pd.read_csv('Quote-Equity-TATAMOTORS-EQ-01-01-1998-to-31-12-1999.csv')"
   ]
  },
  {
   "cell_type": "code",
   "execution_count": 5,
   "metadata": {},
   "outputs": [],
   "source": [
    "df3= pd.read_csv('Quote-Equity-TATAMOTORS-EQ-01-01-2000-to-31-12-2001.csv')"
   ]
  },
  {
   "cell_type": "code",
   "execution_count": 6,
   "metadata": {},
   "outputs": [],
   "source": [
    "df4= pd.read_csv('Quote-Equity-TATAMOTORS-EQ-01-01-2002-to-31-12-2003.csv')"
   ]
  },
  {
   "cell_type": "code",
   "execution_count": 7,
   "metadata": {},
   "outputs": [],
   "source": [
    "df5= pd.read_csv('Quote-Equity-TATAMOTORS-EQ-01-01-2004-to-31-12-2005.csv')"
   ]
  },
  {
   "cell_type": "code",
   "execution_count": 8,
   "metadata": {},
   "outputs": [],
   "source": [
    "df6= pd.read_csv('Quote-Equity-TATAMOTORS-EQ-01-01-2006-to-31-12-2007.csv')"
   ]
  },
  {
   "cell_type": "code",
   "execution_count": 9,
   "metadata": {},
   "outputs": [],
   "source": [
    "df7= pd.read_csv('Quote-Equity-TATAMOTORS-EQ-01-01-2008-to-31-12-2009.csv')"
   ]
  },
  {
   "cell_type": "code",
   "execution_count": 10,
   "metadata": {},
   "outputs": [],
   "source": [
    "df8= pd.read_csv('Quote-Equity-TATAMOTORS-EQ-01-01-2010-to-31-12-2011.csv')"
   ]
  },
  {
   "cell_type": "code",
   "execution_count": 11,
   "metadata": {},
   "outputs": [],
   "source": [
    "df9= pd.read_csv('Quote-Equity-TATAMOTORS-EQ-01-01-2012-to-31-12-2013.csv')"
   ]
  },
  {
   "cell_type": "code",
   "execution_count": 12,
   "metadata": {},
   "outputs": [],
   "source": [
    "df10= pd.read_csv('Quote-Equity-TATAMOTORS-EQ-01-01-2014-to-31-12-2015.csv')"
   ]
  },
  {
   "cell_type": "code",
   "execution_count": 13,
   "metadata": {},
   "outputs": [],
   "source": [
    "frames = [df1,df2,df3,df4,df5,df6,df7,df8,df9,df10]"
   ]
  },
  {
   "cell_type": "code",
   "execution_count": 14,
   "metadata": {},
   "outputs": [],
   "source": [
    "result = pd.concat(frames)"
   ]
  },
  {
   "cell_type": "code",
   "execution_count": 15,
   "metadata": {
    "scrolled": true
   },
   "outputs": [
    {
     "data": {
      "text/plain": [
       "Index(['Date ', 'series ', 'OPEN ', 'HIGH ', 'LOW ', 'PREV. CLOSE ', 'ltp ',\n",
       "       'close ', 'vwap ', '52W H ', '52W L ', 'VOLUME ', 'VALUE ',\n",
       "       'No of trades '],\n",
       "      dtype='object')"
      ]
     },
     "execution_count": 15,
     "metadata": {},
     "output_type": "execute_result"
    }
   ],
   "source": [
    "result.columns"
   ]
  },
  {
   "cell_type": "code",
   "execution_count": 16,
   "metadata": {},
   "outputs": [],
   "source": [
    "# convert date column to datetime type and sort the rows by date(ascending)"
   ]
  },
  {
   "cell_type": "code",
   "execution_count": 18,
   "metadata": {},
   "outputs": [],
   "source": [
    "result['Date '] = pd.to_datetime(result['Date '], errors='coerce')"
   ]
  },
  {
   "cell_type": "code",
   "execution_count": 19,
   "metadata": {},
   "outputs": [],
   "source": [
    "result = result.sort_values(by='Date ')"
   ]
  },
  {
   "cell_type": "code",
   "execution_count": 22,
   "metadata": {},
   "outputs": [],
   "source": [
    "#extract close column as we just need it, then clean it and convert it to float type"
   ]
  },
  {
   "cell_type": "code",
   "execution_count": 23,
   "metadata": {},
   "outputs": [],
   "source": [
    "df=result[['close ']]"
   ]
  },
  {
   "cell_type": "code",
   "execution_count": 24,
   "metadata": {},
   "outputs": [],
   "source": [
    "df.replace(',','', regex=True, inplace=True)"
   ]
  },
  {
   "cell_type": "code",
   "execution_count": 125,
   "metadata": {},
   "outputs": [],
   "source": [
    "df['close '] = df['close '].astype(float)"
   ]
  },
  {
   "cell_type": "code",
   "execution_count": 26,
   "metadata": {},
   "outputs": [],
   "source": [
    "# standardize the close column in (0,1) range"
   ]
  },
  {
   "cell_type": "code",
   "execution_count": 27,
   "metadata": {},
   "outputs": [],
   "source": [
    "from sklearn.preprocessing import MinMaxScaler\n",
    "scaler = MinMaxScaler(feature_range=(0,1))\n",
    "df=scaler.fit_transform(np.array(df).reshape(-1,1))"
   ]
  },
  {
   "cell_type": "code",
   "execution_count": null,
   "metadata": {},
   "outputs": [],
   "source": [
    "# splite data to train and test data "
   ]
  },
  {
   "cell_type": "markdown",
   "metadata": {},
   "source": [
    "# use stacked LSTM as prediction model"
   ]
  },
  {
   "cell_type": "code",
   "execution_count": 28,
   "metadata": {},
   "outputs": [],
   "source": [
    "training_size=int(len(df)*0.65)\n",
    "test_size= len(df)-training_size\n",
    "train_data,test_data= df[0:training_size,:],df[training_size:len(df1),:1]"
   ]
  },
  {
   "cell_type": "code",
   "execution_count": 36,
   "metadata": {},
   "outputs": [],
   "source": [
    "# create timesteps in a size of 200 "
   ]
  },
  {
   "cell_type": "code",
   "execution_count": 30,
   "metadata": {},
   "outputs": [],
   "source": [
    "def create_dataset(dataset, timestep=1):\n",
    "    dataX,dataY=[],[]\n",
    "    for i in range (len(dataset)-timestep-1):\n",
    "        a = dataset[i:(i+timestep),0]\n",
    "        dataX.append(a)\n",
    "        dataY.append(dataset[i+timestep,0])\n",
    "    return np.array(dataX),np.array(dataY)"
   ]
  },
  {
   "cell_type": "code",
   "execution_count": 31,
   "metadata": {},
   "outputs": [],
   "source": [
    "timestep=200\n",
    "xtrain,ytrain=create_dataset(train_data,timestep)\n",
    "xtest,ytest=create_dataset(test_data,timestep)"
   ]
  },
  {
   "cell_type": "code",
   "execution_count": null,
   "metadata": {},
   "outputs": [],
   "source": [
    "#reshape input to be [samples, timesteps, features] which is required for LSTM"
   ]
  },
  {
   "cell_type": "code",
   "execution_count": 37,
   "metadata": {},
   "outputs": [],
   "source": [
    "xtrain=xtrain.reshape(xtrain.shape[0], xtrain.shape[1], 1)\n",
    "xtest=xtest.reshape(xtest.shape[0], xtrain.shape[1], 1)"
   ]
  },
  {
   "cell_type": "code",
   "execution_count": 38,
   "metadata": {},
   "outputs": [
    {
     "data": {
      "text/plain": [
       "(3039, 200, 1)"
      ]
     },
     "execution_count": 38,
     "metadata": {},
     "output_type": "execute_result"
    }
   ],
   "source": [
    "xtrain.shape"
   ]
  },
  {
   "cell_type": "code",
   "execution_count": 40,
   "metadata": {},
   "outputs": [],
   "source": [
    "# call necessary libraries to work with neural nerworks"
   ]
  },
  {
   "cell_type": "code",
   "execution_count": 41,
   "metadata": {},
   "outputs": [],
   "source": [
    "from tensorflow.keras.models import Sequential\n",
    "from tensorflow.keras.layers import Dense\n",
    "from tensorflow.keras.layers import LSTM"
   ]
  },
  {
   "cell_type": "code",
   "execution_count": 42,
   "metadata": {},
   "outputs": [],
   "source": [
    "#stacked univariate LSTM with 3 hidden layer\n",
    "model=Sequential()\n",
    "model.add(LSTM(50, return_sequences=True, input_shape=(200,1)))\n",
    "model.add(LSTM(50, return_sequences=True))\n",
    "model.add(LSTM(50))\n",
    "model.add(Dense(1))\n",
    "model.compile(loss=\"mean_squared_error\",optimizer=\"adam\")"
   ]
  },
  {
   "cell_type": "code",
   "execution_count": 137,
   "metadata": {},
   "outputs": [
    {
     "name": "stdout",
     "output_type": "stream",
     "text": [
      "Model: \"sequential\"\n",
      "_________________________________________________________________\n",
      "Layer (type)                 Output Shape              Param #   \n",
      "=================================================================\n",
      "lstm (LSTM)                  (None, 200, 50)           10400     \n",
      "_________________________________________________________________\n",
      "lstm_1 (LSTM)                (None, 200, 50)           20200     \n",
      "_________________________________________________________________\n",
      "lstm_2 (LSTM)                (None, 50)                20200     \n",
      "_________________________________________________________________\n",
      "dense (Dense)                (None, 1)                 51        \n",
      "=================================================================\n",
      "Total params: 50,851\n",
      "Trainable params: 50,851\n",
      "Non-trainable params: 0\n",
      "_________________________________________________________________\n"
     ]
    }
   ],
   "source": [
    "model.summary()"
   ]
  },
  {
   "cell_type": "code",
   "execution_count": 43,
   "metadata": {},
   "outputs": [],
   "source": [
    "# fit train data to model, mean squre error is reported for each epoch"
   ]
  },
  {
   "cell_type": "code",
   "execution_count": 62,
   "metadata": {},
   "outputs": [
    {
     "name": "stdout",
     "output_type": "stream",
     "text": [
      "Epoch 1/500\n",
      "48/48 [==============================] - 65s 616ms/step - loss: 0.0229\n",
      "Epoch 2/500\n",
      "48/48 [==============================] - 25s 508ms/step - loss: 6.1182e-04\n",
      "Epoch 3/500\n",
      "48/48 [==============================] - 24s 502ms/step - loss: 5.8861e-04\n",
      "Epoch 4/500\n",
      "48/48 [==============================] - 22s 466ms/step - loss: 5.2676e-04\n",
      "Epoch 5/500\n",
      "48/48 [==============================] - 24s 509ms/step - loss: 5.5708e-04\n",
      "Epoch 6/500\n",
      "48/48 [==============================] - 23s 469ms/step - loss: 5.2287e-04\n",
      "Epoch 7/500\n",
      "48/48 [==============================] - 23s 472ms/step - loss: 4.3606e-04\n",
      "Epoch 8/500\n",
      "48/48 [==============================] - 23s 480ms/step - loss: 3.9241e-04\n",
      "Epoch 9/500\n",
      "48/48 [==============================] - 22s 467ms/step - loss: 3.7671e-04\n",
      "Epoch 10/500\n",
      "48/48 [==============================] - 22s 465ms/step - loss: 3.6390e-04\n",
      "Epoch 11/500\n",
      "48/48 [==============================] - 23s 473ms/step - loss: 3.5839e-04\n",
      "Epoch 12/500\n",
      "48/48 [==============================] - 22s 467ms/step - loss: 3.4735e-04\n",
      "Epoch 13/500\n",
      "48/48 [==============================] - 24s 505ms/step - loss: 3.3275e-04\n",
      "Epoch 14/500\n",
      "48/48 [==============================] - 22s 454ms/step - loss: 3.1897e-04\n",
      "Epoch 15/500\n",
      "48/48 [==============================] - 22s 451ms/step - loss: 3.5218e-04\n",
      "Epoch 16/500\n",
      "48/48 [==============================] - 24s 491ms/step - loss: 3.1482e-04\n",
      "Epoch 17/500\n",
      "48/48 [==============================] - 25s 518ms/step - loss: 2.8262e-04\n",
      "Epoch 18/500\n",
      "48/48 [==============================] - 24s 491ms/step - loss: 2.9042e-04\n",
      "Epoch 19/500\n",
      "48/48 [==============================] - 23s 469ms/step - loss: 2.6780e-04\n",
      "Epoch 20/500\n",
      "48/48 [==============================] - 23s 476ms/step - loss: 2.6137e-04\n",
      "Epoch 21/500\n",
      "48/48 [==============================] - 23s 484ms/step - loss: 2.4866e-04\n",
      "Epoch 22/500\n",
      "48/48 [==============================] - 23s 474ms/step - loss: 2.4231e-04\n",
      "Epoch 23/500\n",
      "48/48 [==============================] - 23s 487ms/step - loss: 2.4888e-04\n",
      "Epoch 24/500\n",
      "48/48 [==============================] - 22s 469ms/step - loss: 2.6549e-04\n",
      "Epoch 25/500\n",
      "48/48 [==============================] - 23s 483ms/step - loss: 2.0525e-04\n",
      "Epoch 26/500\n",
      "48/48 [==============================] - 24s 489ms/step - loss: 2.2317e-04\n",
      "Epoch 27/500\n",
      "48/48 [==============================] - 23s 483ms/step - loss: 2.1026e-04\n",
      "Epoch 28/500\n",
      "48/48 [==============================] - 23s 481ms/step - loss: 2.4007e-04\n",
      "Epoch 29/500\n",
      "48/48 [==============================] - 23s 475ms/step - loss: 1.9068e-04\n",
      "Epoch 30/500\n",
      "48/48 [==============================] - 23s 484ms/step - loss: 1.7375e-04\n",
      "Epoch 31/500\n",
      "48/48 [==============================] - 23s 483ms/step - loss: 1.7160e-04\n",
      "Epoch 32/500\n",
      "48/48 [==============================] - 22s 455ms/step - loss: 1.9361e-04\n",
      "Epoch 33/500\n",
      "48/48 [==============================] - 22s 455ms/step - loss: 2.1270e-04\n",
      "Epoch 34/500\n",
      "48/48 [==============================] - 23s 470ms/step - loss: 2.2784e-04\n",
      "Epoch 35/500\n",
      "48/48 [==============================] - 22s 448ms/step - loss: 1.3105e-04\n",
      "Epoch 36/500\n",
      "48/48 [==============================] - 22s 448ms/step - loss: 1.2780e-04\n",
      "Epoch 37/500\n",
      "48/48 [==============================] - 22s 457ms/step - loss: 1.2993e-04\n",
      "Epoch 38/500\n",
      "48/48 [==============================] - 23s 479ms/step - loss: 1.2677e-04\n",
      "Epoch 39/500\n",
      "48/48 [==============================] - 22s 457ms/step - loss: 1.1284e-04\n",
      "Epoch 40/500\n",
      "48/48 [==============================] - 22s 453ms/step - loss: 1.0787e-04\n",
      "Epoch 41/500\n",
      "48/48 [==============================] - 22s 459ms/step - loss: 1.0325e-04\n",
      "Epoch 42/500\n",
      "48/48 [==============================] - 22s 461ms/step - loss: 1.3462e-04\n",
      "Epoch 43/500\n",
      "48/48 [==============================] - 22s 456ms/step - loss: 9.5950e-05\n",
      "Epoch 44/500\n",
      "48/48 [==============================] - 24s 493ms/step - loss: 1.0504e-04\n",
      "Epoch 45/500\n",
      "48/48 [==============================] - 22s 451ms/step - loss: 1.0587e-04\n",
      "Epoch 46/500\n",
      "48/48 [==============================] - 22s 467ms/step - loss: 9.2820e-05\n",
      "Epoch 47/500\n",
      "48/48 [==============================] - 22s 454ms/step - loss: 9.2309e-05\n",
      "Epoch 48/500\n",
      "48/48 [==============================] - 22s 461ms/step - loss: 9.5571e-05\n",
      "Epoch 49/500\n",
      "48/48 [==============================] - 22s 452ms/step - loss: 9.1300e-05\n",
      "Epoch 50/500\n",
      "48/48 [==============================] - 23s 470ms/step - loss: 1.0403e-04\n",
      "Epoch 51/500\n",
      "48/48 [==============================] - 23s 472ms/step - loss: 1.0769e-04\n",
      "Epoch 52/500\n",
      "48/48 [==============================] - 22s 468ms/step - loss: 9.4096e-05\n",
      "Epoch 53/500\n",
      "48/48 [==============================] - 23s 476ms/step - loss: 9.6536e-05\n",
      "Epoch 54/500\n",
      "48/48 [==============================] - 23s 473ms/step - loss: 1.1228e-04\n",
      "Epoch 55/500\n",
      "48/48 [==============================] - 23s 476ms/step - loss: 1.0194e-04\n",
      "Epoch 56/500\n",
      "48/48 [==============================] - 24s 509ms/step - loss: 9.4854e-05\n",
      "Epoch 57/500\n",
      "48/48 [==============================] - 24s 495ms/step - loss: 1.0623e-04\n",
      "Epoch 58/500\n",
      "48/48 [==============================] - 23s 475ms/step - loss: 9.7447e-05\n",
      "Epoch 59/500\n",
      "48/48 [==============================] - 22s 453ms/step - loss: 9.7811e-05\n",
      "Epoch 60/500\n",
      "48/48 [==============================] - 22s 453ms/step - loss: 1.0240e-04\n",
      "Epoch 61/500\n",
      "48/48 [==============================] - 22s 455ms/step - loss: 8.9286e-05\n",
      "Epoch 62/500\n",
      "48/48 [==============================] - 23s 480ms/step - loss: 8.0736e-05\n",
      "Epoch 63/500\n",
      "48/48 [==============================] - 24s 510ms/step - loss: 1.2092e-04\n",
      "Epoch 64/500\n",
      "48/48 [==============================] - 23s 476ms/step - loss: 8.5909e-05\n",
      "Epoch 65/500\n",
      "48/48 [==============================] - 24s 509ms/step - loss: 9.7765e-05\n",
      "Epoch 66/500\n",
      "48/48 [==============================] - 24s 498ms/step - loss: 8.3821e-05\n",
      "Epoch 67/500\n",
      "48/48 [==============================] - 23s 485ms/step - loss: 8.7972e-05\n",
      "Epoch 68/500\n",
      "48/48 [==============================] - 22s 464ms/step - loss: 9.9983e-05\n",
      "Epoch 69/500\n",
      "48/48 [==============================] - 23s 485ms/step - loss: 8.5703e-05\n",
      "Epoch 70/500\n",
      "48/48 [==============================] - 23s 487ms/step - loss: 8.4518e-05\n",
      "Epoch 71/500\n",
      "48/48 [==============================] - 23s 484ms/step - loss: 1.0257e-04\n",
      "Epoch 72/500\n",
      "48/48 [==============================] - 24s 506ms/step - loss: 8.5086e-05\n",
      "Epoch 73/500\n",
      "48/48 [==============================] - 23s 476ms/step - loss: 9.1224e-05\n",
      "Epoch 74/500\n",
      "48/48 [==============================] - 24s 496ms/step - loss: 8.1666e-05\n",
      "Epoch 75/500\n",
      "48/48 [==============================] - 24s 506ms/step - loss: 1.0736e-04\n",
      "Epoch 76/500\n",
      "48/48 [==============================] - 23s 477ms/step - loss: 9.7578e-05\n",
      "Epoch 77/500\n",
      "48/48 [==============================] - 23s 476ms/step - loss: 9.4111e-05\n",
      "Epoch 78/500\n",
      "48/48 [==============================] - 26s 534ms/step - loss: 1.0300e-04\n",
      "Epoch 79/500\n",
      "48/48 [==============================] - 25s 516ms/step - loss: 8.0184e-05\n",
      "Epoch 80/500\n",
      "48/48 [==============================] - 25s 519ms/step - loss: 9.7223e-05\n",
      "Epoch 81/500\n",
      "48/48 [==============================] - 23s 486ms/step - loss: 1.0089e-04\n",
      "Epoch 82/500\n",
      "48/48 [==============================] - 23s 471ms/step - loss: 1.2540e-04\n",
      "Epoch 83/500\n",
      "48/48 [==============================] - 22s 453ms/step - loss: 8.0363e-05\n",
      "Epoch 84/500\n",
      "48/48 [==============================] - 22s 449ms/step - loss: 8.4858e-05\n",
      "Epoch 85/500\n",
      "48/48 [==============================] - 23s 471ms/step - loss: 1.0666e-04\n",
      "Epoch 86/500\n",
      "48/48 [==============================] - 24s 495ms/step - loss: 8.8890e-05\n",
      "Epoch 87/500\n",
      "48/48 [==============================] - 26s 531ms/step - loss: 7.7593e-05\n",
      "Epoch 88/500\n",
      "48/48 [==============================] - 26s 536ms/step - loss: 9.9234e-05\n",
      "Epoch 89/500\n",
      "48/48 [==============================] - 22s 458ms/step - loss: 9.4307e-05\n",
      "Epoch 90/500\n",
      "48/48 [==============================] - 22s 456ms/step - loss: 8.3002e-05\n",
      "Epoch 91/500\n",
      "48/48 [==============================] - 22s 452ms/step - loss: 8.5703e-05\n",
      "Epoch 92/500\n",
      "48/48 [==============================] - 22s 461ms/step - loss: 9.9853e-05\n",
      "Epoch 93/500\n",
      "48/48 [==============================] - 22s 452ms/step - loss: 8.5958e-05\n",
      "Epoch 94/500\n"
     ]
    },
    {
     "name": "stdout",
     "output_type": "stream",
     "text": [
      "48/48 [==============================] - 22s 450ms/step - loss: 9.6408e-05\n",
      "Epoch 95/500\n",
      "48/48 [==============================] - 22s 451ms/step - loss: 8.1389e-05\n",
      "Epoch 96/500\n",
      "48/48 [==============================] - 22s 449ms/step - loss: 7.6311e-05\n",
      "Epoch 97/500\n",
      "48/48 [==============================] - 21s 448ms/step - loss: 8.3296e-05\n",
      "Epoch 98/500\n",
      "48/48 [==============================] - 22s 449ms/step - loss: 8.0507e-05\n",
      "Epoch 99/500\n",
      "48/48 [==============================] - 22s 455ms/step - loss: 7.9312e-05\n",
      "Epoch 100/500\n",
      "48/48 [==============================] - 22s 451ms/step - loss: 9.2058e-05\n",
      "Epoch 101/500\n",
      "48/48 [==============================] - 22s 448ms/step - loss: 8.7994e-05\n",
      "Epoch 102/500\n",
      "48/48 [==============================] - 22s 449ms/step - loss: 1.0092e-04\n",
      "Epoch 103/500\n",
      "48/48 [==============================] - 22s 459ms/step - loss: 8.4917e-05\n",
      "Epoch 104/500\n",
      "48/48 [==============================] - 23s 481ms/step - loss: 9.1404e-05\n",
      "Epoch 105/500\n",
      "48/48 [==============================] - 22s 455ms/step - loss: 9.4394e-05\n",
      "Epoch 106/500\n",
      "48/48 [==============================] - 22s 453ms/step - loss: 7.5952e-05\n",
      "Epoch 107/500\n",
      "48/48 [==============================] - 22s 451ms/step - loss: 7.8360e-05\n",
      "Epoch 108/500\n",
      "48/48 [==============================] - 22s 461ms/step - loss: 7.6455e-05\n",
      "Epoch 109/500\n",
      "48/48 [==============================] - 23s 487ms/step - loss: 7.9818e-05\n",
      "Epoch 110/500\n",
      "48/48 [==============================] - 24s 499ms/step - loss: 9.6018e-05\n",
      "Epoch 111/500\n",
      "48/48 [==============================] - 23s 475ms/step - loss: 1.0337e-04\n",
      "Epoch 112/500\n",
      "48/48 [==============================] - 23s 471ms/step - loss: 9.4011e-05\n",
      "Epoch 113/500\n",
      "48/48 [==============================] - 23s 487ms/step - loss: 8.8903e-05\n",
      "Epoch 114/500\n",
      "48/48 [==============================] - 22s 461ms/step - loss: 7.9297e-05\n",
      "Epoch 115/500\n",
      "48/48 [==============================] - 22s 467ms/step - loss: 9.6059e-05\n",
      "Epoch 116/500\n",
      "48/48 [==============================] - 23s 470ms/step - loss: 9.2505e-05\n",
      "Epoch 117/500\n",
      "48/48 [==============================] - 22s 461ms/step - loss: 8.5912e-05\n",
      "Epoch 118/500\n",
      "48/48 [==============================] - 23s 484ms/step - loss: 8.7479e-05\n",
      "Epoch 119/500\n",
      "48/48 [==============================] - 22s 463ms/step - loss: 7.9357e-05\n",
      "Epoch 120/500\n",
      "48/48 [==============================] - 22s 458ms/step - loss: 7.5887e-05\n",
      "Epoch 121/500\n",
      "48/48 [==============================] - 22s 450ms/step - loss: 8.6689e-05\n",
      "Epoch 122/500\n",
      "48/48 [==============================] - 22s 450ms/step - loss: 9.2372e-05\n",
      "Epoch 123/500\n",
      "48/48 [==============================] - 23s 472ms/step - loss: 7.8892e-05\n",
      "Epoch 124/500\n",
      "48/48 [==============================] - 23s 483ms/step - loss: 7.2055e-05\n",
      "Epoch 125/500\n",
      "48/48 [==============================] - 23s 477ms/step - loss: 7.9704e-05\n",
      "Epoch 126/500\n",
      "48/48 [==============================] - 24s 496ms/step - loss: 7.3890e-05\n",
      "Epoch 127/500\n",
      "48/48 [==============================] - 23s 483ms/step - loss: 9.3773e-05\n",
      "Epoch 128/500\n",
      "48/48 [==============================] - 23s 482ms/step - loss: 7.0347e-05\n",
      "Epoch 129/500\n",
      "48/48 [==============================] - 23s 488ms/step - loss: 7.3520e-05\n",
      "Epoch 130/500\n",
      "48/48 [==============================] - 25s 511ms/step - loss: 8.7791e-05\n",
      "Epoch 131/500\n",
      "48/48 [==============================] - 24s 497ms/step - loss: 9.2491e-05\n",
      "Epoch 132/500\n",
      "48/48 [==============================] - 24s 492ms/step - loss: 9.2759e-05\n",
      "Epoch 133/500\n",
      "48/48 [==============================] - 23s 474ms/step - loss: 8.6934e-05\n",
      "Epoch 134/500\n",
      "48/48 [==============================] - 22s 462ms/step - loss: 7.2616e-05\n",
      "Epoch 135/500\n",
      "48/48 [==============================] - 25s 517ms/step - loss: 8.2195e-05\n",
      "Epoch 136/500\n",
      "48/48 [==============================] - 24s 500ms/step - loss: 7.7898e-05\n",
      "Epoch 137/500\n",
      "48/48 [==============================] - 23s 477ms/step - loss: 7.8456e-05\n",
      "Epoch 138/500\n",
      "48/48 [==============================] - 23s 483ms/step - loss: 9.2252e-05\n",
      "Epoch 139/500\n",
      "48/48 [==============================] - 23s 482ms/step - loss: 7.8967e-05\n",
      "Epoch 140/500\n",
      "48/48 [==============================] - 24s 491ms/step - loss: 8.5320e-05\n",
      "Epoch 141/500\n",
      "48/48 [==============================] - 22s 456ms/step - loss: 8.2463e-05\n",
      "Epoch 142/500\n",
      "48/48 [==============================] - 23s 478ms/step - loss: 8.6167e-05\n",
      "Epoch 143/500\n",
      "48/48 [==============================] - 23s 474ms/step - loss: 8.4600e-05\n",
      "Epoch 144/500\n",
      "48/48 [==============================] - 24s 492ms/step - loss: 8.0894e-05\n",
      "Epoch 145/500\n",
      "48/48 [==============================] - 23s 489ms/step - loss: 8.7214e-05\n",
      "Epoch 146/500\n",
      "48/48 [==============================] - 23s 486ms/step - loss: 8.2596e-05\n",
      "Epoch 147/500\n",
      "48/48 [==============================] - 24s 490ms/step - loss: 8.5679e-05\n",
      "Epoch 148/500\n",
      "48/48 [==============================] - 24s 510ms/step - loss: 8.8716e-05\n",
      "Epoch 149/500\n",
      "48/48 [==============================] - 26s 539ms/step - loss: 7.7247e-05\n",
      "Epoch 150/500\n",
      "48/48 [==============================] - 27s 560ms/step - loss: 7.5303e-05\n",
      "Epoch 151/500\n",
      "48/48 [==============================] - 25s 529ms/step - loss: 7.3025e-05\n",
      "Epoch 152/500\n",
      "48/48 [==============================] - 24s 498ms/step - loss: 7.7520e-05\n",
      "Epoch 153/500\n",
      "48/48 [==============================] - 27s 558ms/step - loss: 7.8988e-05\n",
      "Epoch 154/500\n",
      "48/48 [==============================] - 23s 486ms/step - loss: 8.2394e-05\n",
      "Epoch 155/500\n",
      "48/48 [==============================] - 25s 521ms/step - loss: 7.8917e-05\n",
      "Epoch 156/500\n",
      "48/48 [==============================] - 25s 513ms/step - loss: 7.7117e-05\n",
      "Epoch 157/500\n",
      "48/48 [==============================] - 25s 522ms/step - loss: 7.6872e-05\n",
      "Epoch 158/500\n",
      "48/48 [==============================] - 26s 549ms/step - loss: 8.7527e-05\n",
      "Epoch 159/500\n",
      "48/48 [==============================] - 26s 537ms/step - loss: 7.9031e-05\n",
      "Epoch 160/500\n",
      "48/48 [==============================] - 27s 555ms/step - loss: 7.3710e-05\n",
      "Epoch 161/500\n",
      "48/48 [==============================] - 25s 529ms/step - loss: 9.0030e-05\n",
      "Epoch 162/500\n",
      "48/48 [==============================] - 24s 506ms/step - loss: 8.7698e-05\n",
      "Epoch 163/500\n",
      "48/48 [==============================] - 23s 483ms/step - loss: 8.2125e-05\n",
      "Epoch 164/500\n",
      "48/48 [==============================] - 27s 566ms/step - loss: 7.0723e-05\n",
      "Epoch 165/500\n",
      "48/48 [==============================] - 30s 626ms/step - loss: 7.8985e-05\n",
      "Epoch 166/500\n",
      "48/48 [==============================] - 27s 565ms/step - loss: 9.0562e-05\n",
      "Epoch 167/500\n",
      "48/48 [==============================] - 24s 508ms/step - loss: 7.8541e-05\n",
      "Epoch 168/500\n",
      "48/48 [==============================] - 26s 533ms/step - loss: 8.7952e-05\n",
      "Epoch 169/500\n",
      "48/48 [==============================] - 25s 511ms/step - loss: 8.0954e-05\n",
      "Epoch 170/500\n",
      "48/48 [==============================] - 25s 516ms/step - loss: 7.7116e-05\n",
      "Epoch 171/500\n",
      "48/48 [==============================] - 28s 583ms/step - loss: 1.0128e-04\n",
      "Epoch 172/500\n",
      "48/48 [==============================] - 26s 534ms/step - loss: 7.4197e-05\n",
      "Epoch 173/500\n",
      "48/48 [==============================] - 29s 603ms/step - loss: 7.2043e-05\n",
      "Epoch 174/500\n",
      "48/48 [==============================] - 26s 544ms/step - loss: 8.1949e-05\n",
      "Epoch 175/500\n",
      "48/48 [==============================] - 25s 514ms/step - loss: 7.3612e-05\n",
      "Epoch 176/500\n",
      "48/48 [==============================] - 24s 497ms/step - loss: 7.8772e-05\n",
      "Epoch 177/500\n",
      "48/48 [==============================] - 25s 523ms/step - loss: 7.7970e-05\n",
      "Epoch 178/500\n",
      "48/48 [==============================] - 26s 542ms/step - loss: 7.7021e-05\n",
      "Epoch 179/500\n",
      "48/48 [==============================] - 28s 578ms/step - loss: 7.7169e-05\n",
      "Epoch 180/500\n",
      "48/48 [==============================] - 24s 501ms/step - loss: 7.1316e-05\n",
      "Epoch 181/500\n",
      "48/48 [==============================] - 25s 529ms/step - loss: 8.9436e-05\n",
      "Epoch 182/500\n",
      "48/48 [==============================] - 25s 522ms/step - loss: 7.6237e-05\n",
      "Epoch 183/500\n",
      "48/48 [==============================] - 24s 499ms/step - loss: 7.6974e-05\n",
      "Epoch 184/500\n",
      "48/48 [==============================] - 25s 513ms/step - loss: 7.7531e-05\n",
      "Epoch 185/500\n",
      "48/48 [==============================] - 25s 528ms/step - loss: 7.6048e-05\n",
      "Epoch 186/500\n"
     ]
    },
    {
     "name": "stdout",
     "output_type": "stream",
     "text": [
      "48/48 [==============================] - 25s 526ms/step - loss: 7.4124e-05\n",
      "Epoch 187/500\n",
      "48/48 [==============================] - 26s 531ms/step - loss: 7.7367e-05\n",
      "Epoch 188/500\n",
      "48/48 [==============================] - 25s 517ms/step - loss: 7.8045e-05\n",
      "Epoch 189/500\n",
      "48/48 [==============================] - 25s 512ms/step - loss: 7.8183e-05\n",
      "Epoch 190/500\n",
      "48/48 [==============================] - 26s 543ms/step - loss: 7.4578e-05\n",
      "Epoch 191/500\n",
      "48/48 [==============================] - 24s 503ms/step - loss: 9.1813e-05\n",
      "Epoch 192/500\n",
      "48/48 [==============================] - 22s 459ms/step - loss: 7.1874e-05\n",
      "Epoch 193/500\n",
      "48/48 [==============================] - 25s 512ms/step - loss: 8.8675e-05\n",
      "Epoch 194/500\n",
      "48/48 [==============================] - 23s 485ms/step - loss: 7.7138e-05\n",
      "Epoch 195/500\n",
      "48/48 [==============================] - 22s 467ms/step - loss: 7.8367e-05\n",
      "Epoch 196/500\n",
      "48/48 [==============================] - 22s 452ms/step - loss: 7.6691e-05\n",
      "Epoch 197/500\n",
      "48/48 [==============================] - 23s 490ms/step - loss: 7.9662e-05\n",
      "Epoch 198/500\n",
      "48/48 [==============================] - 23s 477ms/step - loss: 7.4505e-05\n",
      "Epoch 199/500\n",
      "48/48 [==============================] - 25s 512ms/step - loss: 8.3232e-05\n",
      "Epoch 200/500\n",
      "48/48 [==============================] - 24s 505ms/step - loss: 7.0785e-05\n",
      "Epoch 201/500\n",
      "48/48 [==============================] - 22s 466ms/step - loss: 7.8573e-05\n",
      "Epoch 202/500\n",
      "48/48 [==============================] - 22s 463ms/step - loss: 7.2162e-05\n",
      "Epoch 203/500\n",
      "48/48 [==============================] - 24s 501ms/step - loss: 7.7425e-05\n",
      "Epoch 204/500\n",
      "48/48 [==============================] - 23s 484ms/step - loss: 7.1581e-05\n",
      "Epoch 205/500\n",
      "48/48 [==============================] - 24s 508ms/step - loss: 9.6710e-05\n",
      "Epoch 206/500\n",
      "48/48 [==============================] - 23s 475ms/step - loss: 7.9195e-05\n",
      "Epoch 207/500\n",
      "48/48 [==============================] - 23s 482ms/step - loss: 7.7783e-05\n",
      "Epoch 208/500\n",
      "48/48 [==============================] - 23s 475ms/step - loss: 7.7104e-05\n",
      "Epoch 209/500\n",
      "48/48 [==============================] - 23s 471ms/step - loss: 7.9851e-05\n",
      "Epoch 210/500\n",
      "48/48 [==============================] - 23s 480ms/step - loss: 7.1122e-05\n",
      "Epoch 211/500\n",
      "48/48 [==============================] - 23s 474ms/step - loss: 7.8247e-05\n",
      "Epoch 212/500\n",
      "48/48 [==============================] - 23s 471ms/step - loss: 7.6629e-05\n",
      "Epoch 213/500\n",
      "48/48 [==============================] - 23s 479ms/step - loss: 6.8538e-05\n",
      "Epoch 214/500\n",
      "48/48 [==============================] - 23s 474ms/step - loss: 7.7372e-05\n",
      "Epoch 215/500\n",
      "48/48 [==============================] - 24s 496ms/step - loss: 1.0221e-04\n",
      "Epoch 216/500\n",
      "48/48 [==============================] - 23s 483ms/step - loss: 7.8789e-05\n",
      "Epoch 217/500\n",
      "48/48 [==============================] - 23s 481ms/step - loss: 7.3662e-05\n",
      "Epoch 218/500\n",
      "48/48 [==============================] - 23s 476ms/step - loss: 7.5833e-05\n",
      "Epoch 219/500\n",
      "48/48 [==============================] - 23s 476ms/step - loss: 7.1199e-05\n",
      "Epoch 220/500\n",
      "48/48 [==============================] - 23s 471ms/step - loss: 8.3836e-05\n",
      "Epoch 221/500\n",
      "48/48 [==============================] - 23s 472ms/step - loss: 6.6037e-05\n",
      "Epoch 222/500\n",
      "48/48 [==============================] - 24s 491ms/step - loss: 7.3732e-05\n",
      "Epoch 223/500\n",
      "48/48 [==============================] - 23s 482ms/step - loss: 8.3549e-05\n",
      "Epoch 224/500\n",
      "48/48 [==============================] - 23s 480ms/step - loss: 7.7620e-05\n",
      "Epoch 225/500\n",
      "48/48 [==============================] - 24s 491ms/step - loss: 8.7453e-05\n",
      "Epoch 226/500\n",
      "48/48 [==============================] - 24s 491ms/step - loss: 7.7230e-05\n",
      "Epoch 227/500\n",
      "48/48 [==============================] - 23s 474ms/step - loss: 7.4628e-05\n",
      "Epoch 228/500\n",
      "48/48 [==============================] - 23s 478ms/step - loss: 8.5159e-05\n",
      "Epoch 229/500\n",
      "48/48 [==============================] - 23s 472ms/step - loss: 7.3860e-05\n",
      "Epoch 230/500\n",
      "48/48 [==============================] - 23s 475ms/step - loss: 8.4975e-05\n",
      "Epoch 231/500\n",
      "48/48 [==============================] - 23s 474ms/step - loss: 7.0803e-05\n",
      "Epoch 232/500\n",
      "48/48 [==============================] - 23s 475ms/step - loss: 7.0867e-05\n",
      "Epoch 233/500\n",
      "48/48 [==============================] - 23s 478ms/step - loss: 7.4917e-05\n",
      "Epoch 234/500\n",
      "48/48 [==============================] - 23s 473ms/step - loss: 7.2961e-05\n",
      "Epoch 235/500\n",
      "48/48 [==============================] - 23s 475ms/step - loss: 6.6700e-05\n",
      "Epoch 236/500\n",
      "48/48 [==============================] - 23s 473ms/step - loss: 7.1750e-05\n",
      "Epoch 237/500\n",
      "48/48 [==============================] - 23s 486ms/step - loss: 7.9703e-05\n",
      "Epoch 238/500\n",
      "48/48 [==============================] - 23s 473ms/step - loss: 7.7854e-05\n",
      "Epoch 239/500\n",
      "48/48 [==============================] - 23s 485ms/step - loss: 7.9946e-05\n",
      "Epoch 240/500\n",
      "48/48 [==============================] - 23s 474ms/step - loss: 7.3086e-05\n",
      "Epoch 241/500\n",
      "48/48 [==============================] - 23s 474ms/step - loss: 7.5314e-05\n",
      "Epoch 242/500\n",
      "48/48 [==============================] - 23s 475ms/step - loss: 7.2851e-05\n",
      "Epoch 243/500\n",
      "48/48 [==============================] - 23s 480ms/step - loss: 8.1128e-05\n",
      "Epoch 244/500\n",
      "48/48 [==============================] - 23s 475ms/step - loss: 7.6477e-05\n",
      "Epoch 245/500\n",
      "48/48 [==============================] - 23s 475ms/step - loss: 7.4570e-05\n",
      "Epoch 246/500\n",
      "48/48 [==============================] - 23s 475ms/step - loss: 8.4570e-05\n",
      "Epoch 247/500\n",
      "48/48 [==============================] - 23s 474ms/step - loss: 8.3175e-05\n",
      "Epoch 248/500\n",
      "48/48 [==============================] - 23s 477ms/step - loss: 7.7845e-05\n",
      "Epoch 249/500\n",
      "48/48 [==============================] - 23s 483ms/step - loss: 8.2603e-05\n",
      "Epoch 250/500\n",
      "48/48 [==============================] - 23s 472ms/step - loss: 6.9707e-05\n",
      "Epoch 251/500\n",
      "48/48 [==============================] - 23s 487ms/step - loss: 7.6432e-05\n",
      "Epoch 252/500\n",
      "48/48 [==============================] - 23s 486ms/step - loss: 7.8264e-05\n",
      "Epoch 253/500\n",
      "48/48 [==============================] - 23s 477ms/step - loss: 7.2978e-05\n",
      "Epoch 254/500\n",
      "48/48 [==============================] - 23s 473ms/step - loss: 7.2100e-05\n",
      "Epoch 255/500\n",
      "48/48 [==============================] - 23s 473ms/step - loss: 7.9895e-05\n",
      "Epoch 256/500\n",
      "48/48 [==============================] - 23s 473ms/step - loss: 7.5899e-05\n",
      "Epoch 257/500\n",
      "48/48 [==============================] - 23s 473ms/step - loss: 7.2294e-05\n",
      "Epoch 258/500\n",
      "48/48 [==============================] - 23s 474ms/step - loss: 7.2981e-05\n",
      "Epoch 259/500\n",
      "48/48 [==============================] - 23s 472ms/step - loss: 9.5077e-05\n",
      "Epoch 260/500\n",
      "48/48 [==============================] - 23s 475ms/step - loss: 8.0421e-05\n",
      "Epoch 261/500\n",
      "48/48 [==============================] - 23s 485ms/step - loss: 8.4580e-05\n",
      "Epoch 262/500\n",
      "48/48 [==============================] - 24s 494ms/step - loss: 7.7239e-05\n",
      "Epoch 263/500\n",
      "48/48 [==============================] - 23s 474ms/step - loss: 7.1970e-05\n",
      "Epoch 264/500\n",
      "48/48 [==============================] - 23s 480ms/step - loss: 9.3234e-05\n",
      "Epoch 265/500\n",
      "48/48 [==============================] - 23s 473ms/step - loss: 7.5874e-05\n",
      "Epoch 266/500\n",
      "48/48 [==============================] - 23s 475ms/step - loss: 7.3782e-05\n",
      "Epoch 267/500\n",
      "48/48 [==============================] - 23s 472ms/step - loss: 6.8189e-05\n",
      "Epoch 268/500\n",
      "48/48 [==============================] - 23s 476ms/step - loss: 8.0260e-05\n",
      "Epoch 269/500\n",
      "48/48 [==============================] - 23s 474ms/step - loss: 7.6414e-05\n",
      "Epoch 270/500\n",
      "48/48 [==============================] - 23s 480ms/step - loss: 7.1118e-05\n",
      "Epoch 271/500\n",
      "48/48 [==============================] - 23s 475ms/step - loss: 7.4800e-05\n",
      "Epoch 272/500\n",
      "48/48 [==============================] - 23s 475ms/step - loss: 6.9955e-05\n",
      "Epoch 273/500\n",
      "48/48 [==============================] - 23s 474ms/step - loss: 7.5175e-05\n",
      "Epoch 274/500\n",
      "48/48 [==============================] - 23s 475ms/step - loss: 7.5197e-05\n",
      "Epoch 275/500\n",
      "48/48 [==============================] - 23s 474ms/step - loss: 1.0039e-04\n",
      "Epoch 276/500\n",
      "48/48 [==============================] - 23s 473ms/step - loss: 7.6364e-05\n",
      "Epoch 277/500\n",
      "48/48 [==============================] - 24s 508ms/step - loss: 7.9323e-05\n",
      "Epoch 278/500\n"
     ]
    },
    {
     "name": "stdout",
     "output_type": "stream",
     "text": [
      "48/48 [==============================] - 23s 480ms/step - loss: 7.6906e-05\n",
      "Epoch 279/500\n",
      "48/48 [==============================] - 23s 485ms/step - loss: 7.9671e-05\n",
      "Epoch 280/500\n",
      "48/48 [==============================] - 23s 482ms/step - loss: 7.5424e-05\n",
      "Epoch 281/500\n",
      "48/48 [==============================] - 23s 481ms/step - loss: 7.4312e-05\n",
      "Epoch 282/500\n",
      "48/48 [==============================] - 23s 486ms/step - loss: 6.9317e-05\n",
      "Epoch 283/500\n",
      "48/48 [==============================] - 23s 484ms/step - loss: 7.2212e-05\n",
      "Epoch 284/500\n",
      "48/48 [==============================] - 24s 507ms/step - loss: 7.5518e-05\n",
      "Epoch 285/500\n",
      "48/48 [==============================] - 24s 494ms/step - loss: 7.5484e-05\n",
      "Epoch 286/500\n",
      "48/48 [==============================] - 23s 483ms/step - loss: 7.2295e-05\n",
      "Epoch 287/500\n",
      "48/48 [==============================] - 24s 497ms/step - loss: 7.3671e-05\n",
      "Epoch 288/500\n",
      "48/48 [==============================] - 23s 480ms/step - loss: 7.0421e-05\n",
      "Epoch 289/500\n",
      "48/48 [==============================] - 23s 490ms/step - loss: 7.3725e-05\n",
      "Epoch 290/500\n",
      "48/48 [==============================] - 24s 495ms/step - loss: 8.0972e-05\n",
      "Epoch 291/500\n",
      "48/48 [==============================] - 25s 527ms/step - loss: 7.5528e-05\n",
      "Epoch 292/500\n",
      "48/48 [==============================] - 25s 525ms/step - loss: 8.9794e-05\n",
      "Epoch 293/500\n",
      "48/48 [==============================] - 25s 513ms/step - loss: 6.9760e-05\n",
      "Epoch 294/500\n",
      "48/48 [==============================] - 24s 503ms/step - loss: 7.3701e-05\n",
      "Epoch 295/500\n",
      "48/48 [==============================] - 24s 495ms/step - loss: 7.2451e-05\n",
      "Epoch 296/500\n",
      "48/48 [==============================] - 24s 507ms/step - loss: 7.5141e-05\n",
      "Epoch 297/500\n",
      "48/48 [==============================] - 22s 457ms/step - loss: 7.5113e-05\n",
      "Epoch 298/500\n",
      "48/48 [==============================] - 22s 459ms/step - loss: 7.3765e-05\n",
      "Epoch 299/500\n",
      "48/48 [==============================] - 23s 475ms/step - loss: 7.8596e-05\n",
      "Epoch 300/500\n",
      "48/48 [==============================] - 24s 490ms/step - loss: 7.3318e-05\n",
      "Epoch 301/500\n",
      "48/48 [==============================] - 24s 504ms/step - loss: 7.9708e-05\n",
      "Epoch 302/500\n",
      "48/48 [==============================] - 24s 505ms/step - loss: 7.3644e-05\n",
      "Epoch 303/500\n",
      "48/48 [==============================] - 23s 487ms/step - loss: 7.7494e-05\n",
      "Epoch 304/500\n",
      "48/48 [==============================] - 24s 497ms/step - loss: 7.2208e-05\n",
      "Epoch 305/500\n",
      "48/48 [==============================] - 24s 490ms/step - loss: 7.1381e-05\n",
      "Epoch 306/500\n",
      "48/48 [==============================] - 24s 505ms/step - loss: 7.5981e-05\n",
      "Epoch 307/500\n",
      "48/48 [==============================] - 22s 460ms/step - loss: 8.9210e-05\n",
      "Epoch 308/500\n",
      "48/48 [==============================] - 22s 457ms/step - loss: 7.3815e-05\n",
      "Epoch 309/500\n",
      "48/48 [==============================] - 22s 454ms/step - loss: 7.5658e-05\n",
      "Epoch 310/500\n",
      "48/48 [==============================] - 22s 453ms/step - loss: 7.6056e-05\n",
      "Epoch 311/500\n",
      "48/48 [==============================] - 22s 455ms/step - loss: 7.6766e-05\n",
      "Epoch 312/500\n",
      "48/48 [==============================] - 22s 452ms/step - loss: 7.0547e-05\n",
      "Epoch 313/500\n",
      "48/48 [==============================] - 22s 455ms/step - loss: 7.2084e-05\n",
      "Epoch 314/500\n",
      "48/48 [==============================] - 22s 451ms/step - loss: 7.0174e-05\n",
      "Epoch 315/500\n",
      "48/48 [==============================] - 22s 456ms/step - loss: 7.2152e-05\n",
      "Epoch 316/500\n",
      "48/48 [==============================] - 22s 454ms/step - loss: 7.1296e-05\n",
      "Epoch 317/500\n",
      "48/48 [==============================] - 22s 456ms/step - loss: 7.5774e-05\n",
      "Epoch 318/500\n",
      "48/48 [==============================] - 23s 487ms/step - loss: 8.4913e-05\n",
      "Epoch 319/500\n",
      "48/48 [==============================] - 22s 457ms/step - loss: 7.6244e-05\n",
      "Epoch 320/500\n",
      "48/48 [==============================] - 23s 473ms/step - loss: 6.9720e-05\n",
      "Epoch 321/500\n",
      "48/48 [==============================] - 23s 482ms/step - loss: 6.9618e-05\n",
      "Epoch 322/500\n",
      "48/48 [==============================] - 24s 496ms/step - loss: 7.3414e-05\n",
      "Epoch 323/500\n",
      "48/48 [==============================] - 24s 507ms/step - loss: 7.9013e-05\n",
      "Epoch 324/500\n",
      "48/48 [==============================] - 23s 489ms/step - loss: 7.3257e-05\n",
      "Epoch 325/500\n",
      "48/48 [==============================] - 22s 455ms/step - loss: 9.0438e-05\n",
      "Epoch 326/500\n",
      "48/48 [==============================] - 22s 453ms/step - loss: 7.5201e-05\n",
      "Epoch 327/500\n",
      "48/48 [==============================] - 22s 452ms/step - loss: 7.3352e-05\n",
      "Epoch 328/500\n",
      "48/48 [==============================] - 22s 451ms/step - loss: 7.3673e-05\n",
      "Epoch 329/500\n",
      "48/48 [==============================] - 22s 453ms/step - loss: 8.5103e-05\n",
      "Epoch 330/500\n",
      "48/48 [==============================] - 22s 455ms/step - loss: 7.3581e-05\n",
      "Epoch 331/500\n",
      "48/48 [==============================] - 22s 456ms/step - loss: 7.3019e-05\n",
      "Epoch 332/500\n",
      "48/48 [==============================] - 22s 453ms/step - loss: 6.7256e-05\n",
      "Epoch 333/500\n",
      "48/48 [==============================] - 22s 450ms/step - loss: 8.3435e-05\n",
      "Epoch 334/500\n",
      "48/48 [==============================] - 22s 452ms/step - loss: 7.5010e-05\n",
      "Epoch 335/500\n",
      "48/48 [==============================] - 22s 452ms/step - loss: 7.7028e-05\n",
      "Epoch 336/500\n",
      "48/48 [==============================] - 22s 453ms/step - loss: 7.5584e-05\n",
      "Epoch 337/500\n",
      "48/48 [==============================] - 22s 457ms/step - loss: 7.8124e-05\n",
      "Epoch 338/500\n",
      "48/48 [==============================] - 22s 450ms/step - loss: 7.5266e-05\n",
      "Epoch 339/500\n",
      "48/48 [==============================] - 22s 454ms/step - loss: 7.9592e-05\n",
      "Epoch 340/500\n",
      "48/48 [==============================] - 22s 452ms/step - loss: 6.8504e-05\n",
      "Epoch 341/500\n",
      "48/48 [==============================] - 22s 450ms/step - loss: 7.4334e-05\n",
      "Epoch 342/500\n",
      "48/48 [==============================] - 22s 452ms/step - loss: 7.5382e-05\n",
      "Epoch 343/500\n",
      "48/48 [==============================] - 22s 452ms/step - loss: 7.5348e-05\n",
      "Epoch 344/500\n",
      "48/48 [==============================] - 22s 451ms/step - loss: 7.1942e-05\n",
      "Epoch 345/500\n",
      "48/48 [==============================] - 22s 450ms/step - loss: 7.4735e-05\n",
      "Epoch 346/500\n",
      "48/48 [==============================] - 22s 454ms/step - loss: 7.6658e-05\n",
      "Epoch 347/500\n",
      "48/48 [==============================] - 22s 453ms/step - loss: 7.5345e-05\n",
      "Epoch 348/500\n",
      "48/48 [==============================] - 22s 451ms/step - loss: 6.8985e-05\n",
      "Epoch 349/500\n",
      "48/48 [==============================] - 22s 448ms/step - loss: 8.7444e-05\n",
      "Epoch 350/500\n",
      "48/48 [==============================] - 22s 450ms/step - loss: 8.4960e-05\n",
      "Epoch 351/500\n",
      "48/48 [==============================] - 22s 455ms/step - loss: 7.0393e-05\n",
      "Epoch 352/500\n",
      "48/48 [==============================] - 22s 457ms/step - loss: 7.7746e-05\n",
      "Epoch 353/500\n",
      "48/48 [==============================] - 22s 453ms/step - loss: 8.4349e-05\n",
      "Epoch 354/500\n",
      "48/48 [==============================] - 25s 517ms/step - loss: 7.2038e-05\n",
      "Epoch 355/500\n",
      "48/48 [==============================] - 23s 488ms/step - loss: 7.1716e-05\n",
      "Epoch 356/500\n",
      "48/48 [==============================] - 23s 474ms/step - loss: 6.9736e-05\n",
      "Epoch 357/500\n",
      "48/48 [==============================] - 23s 472ms/step - loss: 7.8443e-05\n",
      "Epoch 358/500\n",
      "48/48 [==============================] - 24s 497ms/step - loss: 8.2550e-05\n",
      "Epoch 359/500\n",
      "48/48 [==============================] - 23s 472ms/step - loss: 7.2805e-05\n",
      "Epoch 360/500\n",
      "48/48 [==============================] - 23s 474ms/step - loss: 7.7381e-05\n",
      "Epoch 361/500\n",
      "48/48 [==============================] - 23s 478ms/step - loss: 6.8986e-05\n",
      "Epoch 362/500\n",
      "48/48 [==============================] - 23s 471ms/step - loss: 7.3238e-05\n",
      "Epoch 363/500\n",
      "48/48 [==============================] - 23s 486ms/step - loss: 8.2462e-05\n",
      "Epoch 364/500\n",
      "48/48 [==============================] - 23s 473ms/step - loss: 7.6302e-05\n",
      "Epoch 365/500\n",
      "48/48 [==============================] - 23s 477ms/step - loss: 7.6897e-05\n",
      "Epoch 366/500\n",
      "48/48 [==============================] - 23s 481ms/step - loss: 7.4092e-05\n",
      "Epoch 367/500\n",
      "48/48 [==============================] - 23s 472ms/step - loss: 7.0801e-05\n",
      "Epoch 368/500\n",
      "48/48 [==============================] - 23s 472ms/step - loss: 7.2487e-05\n",
      "Epoch 369/500\n",
      "48/48 [==============================] - 23s 476ms/step - loss: 7.6895e-05\n",
      "Epoch 370/500\n"
     ]
    },
    {
     "name": "stdout",
     "output_type": "stream",
     "text": [
      "48/48 [==============================] - 22s 468ms/step - loss: 7.9105e-05\n",
      "Epoch 371/500\n",
      "48/48 [==============================] - 24s 495ms/step - loss: 7.6018e-05\n",
      "Epoch 372/500\n",
      "48/48 [==============================] - 23s 486ms/step - loss: 7.4462e-05\n",
      "Epoch 373/500\n",
      "48/48 [==============================] - 22s 468ms/step - loss: 8.5053e-05\n",
      "Epoch 374/500\n",
      "48/48 [==============================] - 24s 510ms/step - loss: 7.2703e-05\n",
      "Epoch 375/500\n",
      "48/48 [==============================] - 23s 487ms/step - loss: 7.5671e-05\n",
      "Epoch 376/500\n",
      "48/48 [==============================] - 24s 507ms/step - loss: 8.3121e-05\n",
      "Epoch 377/500\n",
      "48/48 [==============================] - 24s 509ms/step - loss: 7.9570e-05\n",
      "Epoch 378/500\n",
      "48/48 [==============================] - 22s 459ms/step - loss: 7.5923e-05\n",
      "Epoch 379/500\n",
      "48/48 [==============================] - 22s 453ms/step - loss: 8.0621e-05\n",
      "Epoch 380/500\n",
      "48/48 [==============================] - 22s 452ms/step - loss: 8.5078e-05\n",
      "Epoch 381/500\n",
      "48/48 [==============================] - 22s 455ms/step - loss: 7.5563e-05\n",
      "Epoch 382/500\n",
      "48/48 [==============================] - 22s 452ms/step - loss: 7.2784e-05\n",
      "Epoch 383/500\n",
      "48/48 [==============================] - 22s 453ms/step - loss: 8.0929e-05\n",
      "Epoch 384/500\n",
      "48/48 [==============================] - 22s 461ms/step - loss: 7.8424e-05\n",
      "Epoch 385/500\n",
      "48/48 [==============================] - 22s 459ms/step - loss: 8.1252e-05\n",
      "Epoch 386/500\n",
      "48/48 [==============================] - 22s 467ms/step - loss: 7.5115e-05\n",
      "Epoch 387/500\n",
      "48/48 [==============================] - 24s 510ms/step - loss: 7.9786e-05\n",
      "Epoch 388/500\n",
      "48/48 [==============================] - 25s 511ms/step - loss: 7.4584e-05\n",
      "Epoch 389/500\n",
      "48/48 [==============================] - 25s 525ms/step - loss: 7.9734e-05\n",
      "Epoch 390/500\n",
      "48/48 [==============================] - 25s 511ms/step - loss: 7.7226e-05\n",
      "Epoch 391/500\n",
      "48/48 [==============================] - 26s 546ms/step - loss: 7.1276e-05\n",
      "Epoch 392/500\n",
      "48/48 [==============================] - 23s 472ms/step - loss: 7.6497e-05\n",
      "Epoch 393/500\n",
      "48/48 [==============================] - 22s 467ms/step - loss: 7.1023e-05\n",
      "Epoch 394/500\n",
      "48/48 [==============================] - 28s 584ms/step - loss: 8.2629e-05\n",
      "Epoch 395/500\n",
      "48/48 [==============================] - 23s 475ms/step - loss: 7.6183e-05\n",
      "Epoch 396/500\n",
      "48/48 [==============================] - 25s 526ms/step - loss: 6.7339e-05\n",
      "Epoch 397/500\n",
      "48/48 [==============================] - 26s 542ms/step - loss: 7.9015e-05\n",
      "Epoch 398/500\n",
      "48/48 [==============================] - 26s 540ms/step - loss: 7.2784e-05\n",
      "Epoch 399/500\n",
      "48/48 [==============================] - 26s 532ms/step - loss: 7.5732e-05\n",
      "Epoch 400/500\n",
      "48/48 [==============================] - 24s 508ms/step - loss: 6.9956e-05\n",
      "Epoch 401/500\n",
      "48/48 [==============================] - 26s 537ms/step - loss: 7.6131e-05\n",
      "Epoch 402/500\n",
      "48/48 [==============================] - 25s 512ms/step - loss: 7.7646e-05\n",
      "Epoch 403/500\n",
      "48/48 [==============================] - 23s 476ms/step - loss: 7.7062e-05\n",
      "Epoch 404/500\n",
      "48/48 [==============================] - 23s 475ms/step - loss: 6.8668e-05\n",
      "Epoch 405/500\n",
      "48/48 [==============================] - 23s 474ms/step - loss: 7.6039e-05\n",
      "Epoch 406/500\n",
      "48/48 [==============================] - 23s 472ms/step - loss: 8.2971e-05\n",
      "Epoch 407/500\n",
      "48/48 [==============================] - 28s 583ms/step - loss: 7.1433e-05\n",
      "Epoch 408/500\n",
      "48/48 [==============================] - 25s 525ms/step - loss: 8.4120e-05\n",
      "Epoch 409/500\n",
      "48/48 [==============================] - 28s 589ms/step - loss: 7.8082e-05\n",
      "Epoch 410/500\n",
      "48/48 [==============================] - 26s 542ms/step - loss: 6.9439e-05\n",
      "Epoch 411/500\n",
      "48/48 [==============================] - 26s 537ms/step - loss: 7.0099e-05\n",
      "Epoch 412/500\n",
      "48/48 [==============================] - 25s 511ms/step - loss: 7.5955e-05\n",
      "Epoch 413/500\n",
      "48/48 [==============================] - 24s 503ms/step - loss: 6.6705e-05\n",
      "Epoch 414/500\n",
      "48/48 [==============================] - 24s 505ms/step - loss: 7.3069e-05\n",
      "Epoch 415/500\n",
      "48/48 [==============================] - 24s 508ms/step - loss: 8.1110e-05\n",
      "Epoch 416/500\n",
      "48/48 [==============================] - 25s 512ms/step - loss: 8.0025e-05\n",
      "Epoch 417/500\n",
      "48/48 [==============================] - 25s 515ms/step - loss: 8.1596e-05\n",
      "Epoch 418/500\n",
      "48/48 [==============================] - 24s 504ms/step - loss: 7.3476e-05\n",
      "Epoch 419/500\n",
      "48/48 [==============================] - 24s 502ms/step - loss: 7.5233e-05\n",
      "Epoch 420/500\n",
      "48/48 [==============================] - 24s 502ms/step - loss: 7.5467e-05\n",
      "Epoch 421/500\n",
      "48/48 [==============================] - 25s 522ms/step - loss: 6.8979e-05\n",
      "Epoch 422/500\n",
      "48/48 [==============================] - 25s 528ms/step - loss: 7.0739e-05\n",
      "Epoch 423/500\n",
      "48/48 [==============================] - 23s 482ms/step - loss: 7.1275e-05\n",
      "Epoch 424/500\n",
      "48/48 [==============================] - 22s 453ms/step - loss: 7.4656e-05\n",
      "Epoch 425/500\n",
      "48/48 [==============================] - 22s 463ms/step - loss: 8.1786e-05\n",
      "Epoch 426/500\n",
      "48/48 [==============================] - 22s 467ms/step - loss: 6.8089e-05\n",
      "Epoch 427/500\n",
      "48/48 [==============================] - 23s 484ms/step - loss: 7.8871e-05\n",
      "Epoch 428/500\n",
      "48/48 [==============================] - 28s 575ms/step - loss: 6.8164e-05\n",
      "Epoch 429/500\n",
      "48/48 [==============================] - 23s 477ms/step - loss: 7.8971e-05\n",
      "Epoch 430/500\n",
      "48/48 [==============================] - 23s 487ms/step - loss: 7.2179e-05\n",
      "Epoch 431/500\n",
      "48/48 [==============================] - 23s 473ms/step - loss: 7.2176e-05\n",
      "Epoch 432/500\n",
      "48/48 [==============================] - 23s 476ms/step - loss: 7.3386e-05\n",
      "Epoch 433/500\n",
      "48/48 [==============================] - 23s 471ms/step - loss: 6.9090e-05\n",
      "Epoch 434/500\n",
      "48/48 [==============================] - 22s 460ms/step - loss: 7.2809e-05\n",
      "Epoch 435/500\n",
      "48/48 [==============================] - 22s 455ms/step - loss: 6.9115e-05\n",
      "Epoch 436/500\n",
      "48/48 [==============================] - 21s 447ms/step - loss: 6.4616e-05\n",
      "Epoch 437/500\n",
      "48/48 [==============================] - 22s 448ms/step - loss: 9.0667e-05\n",
      "Epoch 438/500\n",
      "48/48 [==============================] - 21s 446ms/step - loss: 7.2382e-05\n",
      "Epoch 439/500\n",
      "48/48 [==============================] - 22s 460ms/step - loss: 7.2887e-05\n",
      "Epoch 440/500\n",
      "48/48 [==============================] - 21s 446ms/step - loss: 8.0305e-05\n",
      "Epoch 441/500\n",
      "48/48 [==============================] - 22s 450ms/step - loss: 7.3662e-05\n",
      "Epoch 442/500\n",
      "48/48 [==============================] - 22s 462ms/step - loss: 8.1394e-05\n",
      "Epoch 443/500\n",
      "48/48 [==============================] - 22s 453ms/step - loss: 8.3766e-05\n",
      "Epoch 444/500\n",
      "48/48 [==============================] - 22s 450ms/step - loss: 7.9095e-05\n",
      "Epoch 445/500\n",
      "48/48 [==============================] - 22s 448ms/step - loss: 7.4554e-05\n",
      "Epoch 446/500\n",
      "48/48 [==============================] - 21s 446ms/step - loss: 7.3558e-05\n",
      "Epoch 447/500\n",
      "48/48 [==============================] - 21s 446ms/step - loss: 7.9393e-05\n",
      "Epoch 448/500\n",
      "48/48 [==============================] - 22s 448ms/step - loss: 7.7416e-05\n",
      "Epoch 449/500\n",
      "48/48 [==============================] - 21s 448ms/step - loss: 7.2893e-05\n",
      "Epoch 450/500\n",
      "48/48 [==============================] - 21s 448ms/step - loss: 9.1533e-05\n",
      "Epoch 451/500\n",
      "48/48 [==============================] - 21s 447ms/step - loss: 7.4961e-05\n",
      "Epoch 452/500\n",
      "48/48 [==============================] - 21s 446ms/step - loss: 6.7384e-05\n",
      "Epoch 453/500\n",
      "48/48 [==============================] - 21s 447ms/step - loss: 8.6573e-05\n",
      "Epoch 454/500\n",
      "48/48 [==============================] - 23s 482ms/step - loss: 7.4538e-05\n",
      "Epoch 455/500\n",
      "48/48 [==============================] - 22s 456ms/step - loss: 7.1235e-05\n",
      "Epoch 456/500\n",
      "48/48 [==============================] - 23s 472ms/step - loss: 6.9830e-05\n",
      "Epoch 457/500\n",
      "48/48 [==============================] - 23s 470ms/step - loss: 7.1515e-05\n",
      "Epoch 458/500\n",
      "48/48 [==============================] - 22s 457ms/step - loss: 7.4356e-05\n",
      "Epoch 459/500\n",
      "48/48 [==============================] - 23s 476ms/step - loss: 8.1147e-05\n",
      "Epoch 460/500\n",
      "48/48 [==============================] - 22s 465ms/step - loss: 7.0073e-05\n",
      "Epoch 461/500\n",
      "48/48 [==============================] - 22s 465ms/step - loss: 7.2478e-05\n",
      "Epoch 462/500\n"
     ]
    },
    {
     "name": "stdout",
     "output_type": "stream",
     "text": [
      "48/48 [==============================] - 23s 481ms/step - loss: 7.5284e-05\n",
      "Epoch 463/500\n",
      "48/48 [==============================] - 25s 519ms/step - loss: 7.6317e-05\n",
      "Epoch 464/500\n",
      "48/48 [==============================] - 22s 465ms/step - loss: 7.5641e-05\n",
      "Epoch 465/500\n",
      "48/48 [==============================] - 25s 513ms/step - loss: 7.0042e-05\n",
      "Epoch 466/500\n",
      "48/48 [==============================] - 25s 523ms/step - loss: 6.8986e-05\n",
      "Epoch 467/500\n",
      "48/48 [==============================] - 26s 538ms/step - loss: 7.2804e-05\n",
      "Epoch 468/500\n",
      "48/48 [==============================] - 25s 515ms/step - loss: 7.2518e-05\n",
      "Epoch 469/500\n",
      "48/48 [==============================] - 24s 496ms/step - loss: 7.8962e-05\n",
      "Epoch 470/500\n",
      "48/48 [==============================] - 25s 521ms/step - loss: 7.3394e-05\n",
      "Epoch 471/500\n",
      "48/48 [==============================] - 24s 509ms/step - loss: 7.7844e-05\n",
      "Epoch 472/500\n",
      "48/48 [==============================] - 25s 528ms/step - loss: 7.3473e-05\n",
      "Epoch 473/500\n",
      "48/48 [==============================] - 24s 510ms/step - loss: 7.2719e-05\n",
      "Epoch 474/500\n",
      "48/48 [==============================] - 24s 498ms/step - loss: 7.4181e-05\n",
      "Epoch 475/500\n",
      "48/48 [==============================] - 23s 489ms/step - loss: 7.3678e-05\n",
      "Epoch 476/500\n",
      "48/48 [==============================] - 24s 501ms/step - loss: 7.0573e-05\n",
      "Epoch 477/500\n",
      "48/48 [==============================] - 25s 530ms/step - loss: 7.9589e-05\n",
      "Epoch 478/500\n",
      "48/48 [==============================] - 26s 540ms/step - loss: 8.0390e-05\n",
      "Epoch 479/500\n",
      "48/48 [==============================] - 24s 493ms/step - loss: 7.5194e-05\n",
      "Epoch 480/500\n",
      "48/48 [==============================] - 24s 493ms/step - loss: 7.4340e-05\n",
      "Epoch 481/500\n",
      "48/48 [==============================] - 24s 494ms/step - loss: 7.2736e-05\n",
      "Epoch 482/500\n",
      "48/48 [==============================] - 24s 500ms/step - loss: 7.4338e-05\n",
      "Epoch 483/500\n",
      "48/48 [==============================] - 26s 542ms/step - loss: 7.9147e-05\n",
      "Epoch 484/500\n",
      "48/48 [==============================] - 24s 492ms/step - loss: 7.5502e-05\n",
      "Epoch 485/500\n",
      "48/48 [==============================] - 23s 485ms/step - loss: 7.1826e-05\n",
      "Epoch 486/500\n",
      "48/48 [==============================] - 27s 566ms/step - loss: 8.5625e-05\n",
      "Epoch 487/500\n",
      "48/48 [==============================] - 25s 514ms/step - loss: 7.1388e-05\n",
      "Epoch 488/500\n",
      "48/48 [==============================] - 24s 501ms/step - loss: 7.4386e-05\n",
      "Epoch 489/500\n",
      "48/48 [==============================] - 24s 507ms/step - loss: 7.1978e-05\n",
      "Epoch 490/500\n",
      "48/48 [==============================] - 24s 493ms/step - loss: 7.1294e-05\n",
      "Epoch 491/500\n",
      "48/48 [==============================] - 24s 497ms/step - loss: 7.6441e-05\n",
      "Epoch 492/500\n",
      "48/48 [==============================] - 24s 503ms/step - loss: 7.1532e-05\n",
      "Epoch 493/500\n",
      "48/48 [==============================] - 24s 495ms/step - loss: 8.5472e-05\n",
      "Epoch 494/500\n",
      "48/48 [==============================] - 24s 490ms/step - loss: 7.9724e-05\n",
      "Epoch 495/500\n",
      "48/48 [==============================] - 24s 493ms/step - loss: 7.2510e-05\n",
      "Epoch 496/500\n",
      "48/48 [==============================] - 24s 495ms/step - loss: 7.1472e-05\n",
      "Epoch 497/500\n",
      "48/48 [==============================] - 24s 494ms/step - loss: 7.0039e-05\n",
      "Epoch 498/500\n",
      "48/48 [==============================] - 24s 499ms/step - loss: 8.4823e-05\n",
      "Epoch 499/500\n",
      "48/48 [==============================] - 24s 501ms/step - loss: 8.1713e-05\n",
      "Epoch 500/500\n",
      "48/48 [==============================] - 24s 492ms/step - loss: 7.5303e-05\n"
     ]
    },
    {
     "data": {
      "text/plain": [
       "<tensorflow.python.keras.callbacks.History at 0x286b1a0e850>"
      ]
     },
     "execution_count": 62,
     "metadata": {},
     "output_type": "execute_result"
    }
   ],
   "source": [
    "model.fit(xtrain,ytrain,validation_data=(xtest,ytest),epochs=500,batch_size=64,verbose=1)"
   ]
  },
  {
   "cell_type": "code",
   "execution_count": null,
   "metadata": {},
   "outputs": [],
   "source": []
  },
  {
   "cell_type": "code",
   "execution_count": null,
   "metadata": {},
   "outputs": [],
   "source": []
  },
  {
   "cell_type": "code",
   "execution_count": 63,
   "metadata": {},
   "outputs": [],
   "source": [
    "# loas test data"
   ]
  },
  {
   "cell_type": "code",
   "execution_count": 44,
   "metadata": {},
   "outputs": [],
   "source": [
    "testdf1= pd.read_csv('Quote-Equity-MARUTI-EQ-01-01-2017-to-31-12-2017.csv')"
   ]
  },
  {
   "cell_type": "code",
   "execution_count": 45,
   "metadata": {},
   "outputs": [],
   "source": [
    "testdf2= pd.read_csv('Quote-Equity-MARUTI-EQ-01-01-2015-to-31-12-2016.csv')"
   ]
  },
  {
   "cell_type": "code",
   "execution_count": 46,
   "metadata": {},
   "outputs": [],
   "source": [
    "testdf3= pd.read_csv('Quote-Equity-MARUTI-EQ-01-01-2013-to-31-12-2014.csv')"
   ]
  },
  {
   "cell_type": "code",
   "execution_count": 47,
   "metadata": {},
   "outputs": [],
   "source": [
    "testdf4= pd.read_csv('Quote-Equity-MARUTI-EQ-01-01-2011-to-31-12-2012.csv')"
   ]
  },
  {
   "cell_type": "code",
   "execution_count": 48,
   "metadata": {},
   "outputs": [],
   "source": [
    "testdf5= pd.read_csv('Quote-Equity-MARUTI-EQ-01-01-2009-to-31-12-2010.csv')"
   ]
  },
  {
   "cell_type": "code",
   "execution_count": 49,
   "metadata": {},
   "outputs": [],
   "source": [
    "testdf6= pd.read_csv('Quote-Equity-MARUTI-EQ-01-01-2007-to-31-12-2008.csv')"
   ]
  },
  {
   "cell_type": "code",
   "execution_count": 50,
   "metadata": {},
   "outputs": [],
   "source": [
    "testframes = [testdf1,testdf2,testdf3,testdf4,testdf5, testdf6]"
   ]
  },
  {
   "cell_type": "code",
   "execution_count": 51,
   "metadata": {},
   "outputs": [],
   "source": [
    "testresult = pd.concat(testframes)"
   ]
  },
  {
   "cell_type": "code",
   "execution_count": 52,
   "metadata": {
    "scrolled": false
   },
   "outputs": [
    {
     "data": {
      "text/plain": [
       "Index(['Date ', 'series ', 'OPEN ', 'HIGH ', 'LOW ', 'PREV. CLOSE ', 'ltp ',\n",
       "       'close ', 'vwap ', '52W H ', '52W L ', 'VOLUME ', 'VALUE ',\n",
       "       'No of trades '],\n",
       "      dtype='object')"
      ]
     },
     "execution_count": 52,
     "metadata": {},
     "output_type": "execute_result"
    }
   ],
   "source": [
    "testresult.columns"
   ]
  },
  {
   "cell_type": "code",
   "execution_count": 53,
   "metadata": {},
   "outputs": [],
   "source": [
    "testresult['Date '] = pd.to_datetime(testresult['Date '], errors='coerce')"
   ]
  },
  {
   "cell_type": "code",
   "execution_count": 54,
   "metadata": {},
   "outputs": [],
   "source": [
    "testresult = testresult.sort_values(by='Date ')"
   ]
  },
  {
   "cell_type": "code",
   "execution_count": 55,
   "metadata": {},
   "outputs": [],
   "source": [
    "tdf=testresult[['close ']]"
   ]
  },
  {
   "cell_type": "code",
   "execution_count": 56,
   "metadata": {},
   "outputs": [],
   "source": [
    "tdf.replace(',','', regex=True, inplace=True)"
   ]
  },
  {
   "cell_type": "code",
   "execution_count": 57,
   "metadata": {},
   "outputs": [],
   "source": [
    "tdf['close '] = tdf['close '].astype(float)"
   ]
  },
  {
   "cell_type": "code",
   "execution_count": 59,
   "metadata": {},
   "outputs": [],
   "source": [
    "from sklearn.preprocessing import MinMaxScaler\n",
    "scaler = MinMaxScaler(feature_range=(0,1))\n",
    "tdf=scaler.fit_transform(np.array(tdf).reshape(-1,1))"
   ]
  },
  {
   "cell_type": "code",
   "execution_count": 60,
   "metadata": {},
   "outputs": [],
   "source": [
    "timestep=200\n",
    "testx,testy=create_dataset(tdf,timestep)"
   ]
  },
  {
   "cell_type": "code",
   "execution_count": 61,
   "metadata": {},
   "outputs": [],
   "source": [
    "testx=testx.reshape(testx.shape[0], testx.shape[1], 1)"
   ]
  },
  {
   "cell_type": "code",
   "execution_count": 64,
   "metadata": {},
   "outputs": [],
   "source": [
    "predict=model.predict(testx)"
   ]
  },
  {
   "cell_type": "code",
   "execution_count": 74,
   "metadata": {},
   "outputs": [],
   "source": [
    "testy = testy.reshape(2524,1)"
   ]
  },
  {
   "cell_type": "code",
   "execution_count": null,
   "metadata": {},
   "outputs": [],
   "source": [
    "# measure the MAPE metric introduced by paper"
   ]
  },
  {
   "cell_type": "code",
   "execution_count": 85,
   "metadata": {},
   "outputs": [],
   "source": [
    "for i in range(0,len(predict)):\n",
    "    sum = abs(testy[i][0]-predict[i][0])/abs(testy[i][0])"
   ]
  },
  {
   "cell_type": "code",
   "execution_count": 86,
   "metadata": {},
   "outputs": [],
   "source": [
    "mape = sum/len(predict)"
   ]
  },
  {
   "cell_type": "code",
   "execution_count": 87,
   "metadata": {},
   "outputs": [
    {
     "data": {
      "text/plain": [
       "1.4103774456873564e-05"
      ]
     },
     "execution_count": 87,
     "metadata": {},
     "output_type": "execute_result"
    }
   ],
   "source": [
    "mape"
   ]
  },
  {
   "cell_type": "code",
   "execution_count": 96,
   "metadata": {},
   "outputs": [],
   "source": [
    "# plot predicted and actual price "
   ]
  },
  {
   "cell_type": "code",
   "execution_count": 93,
   "metadata": {},
   "outputs": [],
   "source": [
    "# return to actual value (destandardization)\n",
    "predictinv = scaler.inverse_transform(predict) \n",
    "testyinv = scaler.inverse_transform(testy)"
   ]
  },
  {
   "cell_type": "code",
   "execution_count": 181,
   "metadata": {},
   "outputs": [
    {
     "data": {
      "image/png": "[encoded data removed]",
      "text/plain": [
       "<Figure size 864x576 with 1 Axes>"
      ]
     },
     "metadata": {
      "needs_background": "light"
     },
     "output_type": "display_data"
    }
   ],
   "source": [
    "plt.figure(figsize=(12, 8))\n",
    "plt.plot(testyinv, '-r', label='Actual')\n",
    "plt.plot(predictinv, '-b', label='predict')\n",
    "plt.legend(fontsize=14)\n",
    "plt.title('compare predicted close price to actual close price', fontsize=16)\n",
    "plt.grid()"
   ]
  },
  {
   "cell_type": "code",
   "execution_count": 183,
   "metadata": {},
   "outputs": [
    {
     "data": {
      "image/png": "[encoded data removed]",
      "text/plain": [
       "<Figure size 864x720 with 1 Axes>"
      ]
     },
     "metadata": {
      "needs_background": "light"
     },
     "output_type": "display_data"
    }
   ],
   "source": [
    "# how histogram of two actual and predicted values are cover each other\n",
    "from scipy.stats import norm\n",
    "plt.figure(figsize=(12,10))\n",
    "sns.distplot(testyinv,fit=norm, kde=False,color='b', label='Actual')\n",
    "sns.distplot(predictinv,fit=norm, kde=False, color='orange', label='predicted')\n",
    "plt.xlabel('trading days',fontsize=20,color='b')\n",
    "plt.ylabel('Density',fontsize=20,color='b')\n",
    "plt.title('show the overlap of predicted and actual close price over trading days', fontsize=16)\n",
    "plt.grid()"
   ]
  },
  {
   "cell_type": "code",
   "execution_count": 114,
   "metadata": {},
   "outputs": [],
   "source": [
    "testyresh = testy.reshape(2524,)"
   ]
  },
  {
   "cell_type": "code",
   "execution_count": 118,
   "metadata": {},
   "outputs": [
    {
     "data": {
      "image/png": "[encoded data removed]",
      "text/plain": [
       "<Figure size 864x576 with 1 Axes>"
      ]
     },
     "metadata": {
      "needs_background": "light"
     },
     "output_type": "display_data"
    }
   ],
   "source": [
    "testyseries = pd.Series(testyresh)\n",
    "plt.figure(figsize=(12,8))\n",
    "from pandas.plotting import lag_plot\n",
    "from matplotlib import pyplot\n",
    "lag_plot(testyseries)\n",
    "plt.grid()\n",
    "pyplot.show()"
   ]
  },
  {
   "cell_type": "code",
   "execution_count": null,
   "metadata": {},
   "outputs": [],
   "source": []
  },
  {
   "cell_type": "markdown",
   "metadata": {},
   "source": [
    "# predict 10 future days"
   ]
  },
  {
   "cell_type": "code",
   "execution_count": 157,
   "metadata": {},
   "outputs": [
    {
     "data": {
      "text/plain": [
       "2725"
      ]
     },
     "execution_count": 157,
     "metadata": {},
     "output_type": "execute_result"
    }
   ],
   "source": [
    "len(tdf)"
   ]
  },
  {
   "cell_type": "code",
   "execution_count": 158,
   "metadata": {},
   "outputs": [],
   "source": [
    "x_input = tdf[2525:].reshape(1,-1)"
   ]
  },
  {
   "cell_type": "code",
   "execution_count": 159,
   "metadata": {},
   "outputs": [
    {
     "data": {
      "text/plain": [
       "(1, 200)"
      ]
     },
     "execution_count": 159,
     "metadata": {},
     "output_type": "execute_result"
    }
   ],
   "source": [
    "x_input.shape"
   ]
  },
  {
   "cell_type": "code",
   "execution_count": 160,
   "metadata": {},
   "outputs": [],
   "source": [
    "temp_input = list(x_input)\n",
    "temp_input = temp_input[0].tolist()"
   ]
  },
  {
   "cell_type": "code",
   "execution_count": 161,
   "metadata": {},
   "outputs": [
    {
     "name": "stdout",
     "output_type": "stream",
     "text": [
      "[0.9530329]\n",
      "201\n",
      "1 day input [0.60775571 0.6096933  0.61367018 0.61006262 0.60122036 0.59367339\n",
      " 0.59677782 0.59355029 0.59153241 0.59029599 0.58707381 0.58840657\n",
      " 0.59473318 0.60076005 0.62970615 0.6242734  0.62081571 0.62183268\n",
      " 0.6195793  0.60959161 0.60139699 0.60542204 0.6077343  0.61413585\n",
      " 0.62233046 0.61294225 0.62713162 0.62914949 0.63654659 0.63309426\n",
      " 0.64923727 0.66857571 0.66199219 0.66154258 0.66307873 0.66055237\n",
      " 0.66041856 0.67202805 0.67467751 0.67121983 0.68125033 0.69517208\n",
      " 0.69562704 0.68201574 0.67768024 0.66816892 0.68713269 0.68614783\n",
      " 0.69857089 0.70703848 0.71449446 0.71589145 0.72268908 0.71579511\n",
      " 0.71238024 0.71355778 0.71210191 0.72212171 0.72681047 0.74986351\n",
      " 0.74010063 0.73745651 0.73768131 0.73353316 0.72835198 0.72678371\n",
      " 0.72228764 0.72881229 0.73393995 0.72356153 0.71972917 0.72419312\n",
      " 0.72411818 0.7233956  0.73799711 0.74036825 0.74052882 0.75084836\n",
      " 0.74643259 0.74618102 0.74902318 0.75112669 0.76085746 0.75975486\n",
      " 0.75601349 0.75890917 0.76020982 0.7526575  0.75822941 0.75946582\n",
      " 0.75414548 0.76061125 0.76428839 0.76759086 0.78039394 0.79174651\n",
      " 0.78525933 0.77903977 0.78256169 0.7898785  0.78102018 0.77092544\n",
      " 0.76205641 0.749066   0.76523578 0.77515924 0.7624525  0.76420275\n",
      " 0.75382968 0.7532088  0.76144623 0.76570679 0.76208318 0.75592785\n",
      " 0.75977627 0.77506824 0.78705775 0.78804261 0.78758229 0.79073489\n",
      " 0.79850131 0.8040197  0.82239469 0.82368999 0.82027512 0.81467109\n",
      " 0.81782904 0.8240486  0.82124926 0.82001285 0.82266767 0.81445164\n",
      " 0.80339881 0.79536477 0.77931274 0.79616229 0.80481721 0.79519349\n",
      " 0.79079377 0.78906493 0.79678852 0.7960927  0.79577156 0.78843334\n",
      " 0.79690093 0.79367875 0.79023711 0.78990526 0.78403361 0.77836536\n",
      " 0.78772146 0.79376974 0.7932559  0.81443558 0.81940267 0.82805224\n",
      " 0.82976503 0.83267141 0.83132259 0.83063748 0.84035754 0.83073382\n",
      " 0.8319863  0.82907456 0.82679441 0.81884066 0.82031258 0.8207729\n",
      " 0.82467484 0.84444147 0.85271637 0.85262538 0.86208318 0.85675748\n",
      " 0.85938554 0.8615961  0.87396564 0.87901836 0.87128406 0.87234384\n",
      " 0.86076112 0.8607183  0.87270781 0.90161109 0.9187229  0.92852326\n",
      " 0.92826099 0.92711556 0.92626987 0.93195954 0.94728898 1.\n",
      " 0.99276347 0.98175347 0.98913451 0.98688647 0.98315046 0.98155542\n",
      " 0.99229781 0.95303291]\n",
      "1 day output [[0.92695737]]\n",
      "2 day input [0.6096933  0.61367018 0.61006262 0.60122036 0.59367339 0.59677782\n",
      " 0.59355029 0.59153241 0.59029599 0.58707381 0.58840657 0.59473318\n",
      " 0.60076005 0.62970615 0.6242734  0.62081571 0.62183268 0.6195793\n",
      " 0.60959161 0.60139699 0.60542204 0.6077343  0.61413585 0.62233046\n",
      " 0.61294225 0.62713162 0.62914949 0.63654659 0.63309426 0.64923727\n",
      " 0.66857571 0.66199219 0.66154258 0.66307873 0.66055237 0.66041856\n",
      " 0.67202805 0.67467751 0.67121983 0.68125033 0.69517208 0.69562704\n",
      " 0.68201574 0.67768024 0.66816892 0.68713269 0.68614783 0.69857089\n",
      " 0.70703848 0.71449446 0.71589145 0.72268908 0.71579511 0.71238024\n",
      " 0.71355778 0.71210191 0.72212171 0.72681047 0.74986351 0.74010063\n",
      " 0.73745651 0.73768131 0.73353316 0.72835198 0.72678371 0.72228764\n",
      " 0.72881229 0.73393995 0.72356153 0.71972917 0.72419312 0.72411818\n",
      " 0.7233956  0.73799711 0.74036825 0.74052882 0.75084836 0.74643259\n",
      " 0.74618102 0.74902318 0.75112669 0.76085746 0.75975486 0.75601349\n",
      " 0.75890917 0.76020982 0.7526575  0.75822941 0.75946582 0.75414548\n",
      " 0.76061125 0.76428839 0.76759086 0.78039394 0.79174651 0.78525933\n",
      " 0.77903977 0.78256169 0.7898785  0.78102018 0.77092544 0.76205641\n",
      " 0.749066   0.76523578 0.77515924 0.7624525  0.76420275 0.75382968\n",
      " 0.7532088  0.76144623 0.76570679 0.76208318 0.75592785 0.75977627\n",
      " 0.77506824 0.78705775 0.78804261 0.78758229 0.79073489 0.79850131\n",
      " 0.8040197  0.82239469 0.82368999 0.82027512 0.81467109 0.81782904\n",
      " 0.8240486  0.82124926 0.82001285 0.82266767 0.81445164 0.80339881\n",
      " 0.79536477 0.77931274 0.79616229 0.80481721 0.79519349 0.79079377\n",
      " 0.78906493 0.79678852 0.7960927  0.79577156 0.78843334 0.79690093\n",
      " 0.79367875 0.79023711 0.78990526 0.78403361 0.77836536 0.78772146\n",
      " 0.79376974 0.7932559  0.81443558 0.81940267 0.82805224 0.82976503\n",
      " 0.83267141 0.83132259 0.83063748 0.84035754 0.83073382 0.8319863\n",
      " 0.82907456 0.82679441 0.81884066 0.82031258 0.8207729  0.82467484\n",
      " 0.84444147 0.85271637 0.85262538 0.86208318 0.85675748 0.85938554\n",
      " 0.8615961  0.87396564 0.87901836 0.87128406 0.87234384 0.86076112\n",
      " 0.8607183  0.87270781 0.90161109 0.9187229  0.92852326 0.92826099\n",
      " 0.92711556 0.92626987 0.93195954 0.94728898 1.         0.99276347\n",
      " 0.98175347 0.98913451 0.98688647 0.98315046 0.98155542 0.99229781\n",
      " 0.95303291 0.92695737]\n",
      "2 day output [[0.9034659]]\n",
      "3 day input [0.61367018 0.61006262 0.60122036 0.59367339 0.59677782 0.59355029\n",
      " 0.59153241 0.59029599 0.58707381 0.58840657 0.59473318 0.60076005\n",
      " 0.62970615 0.6242734  0.62081571 0.62183268 0.6195793  0.60959161\n",
      " 0.60139699 0.60542204 0.6077343  0.61413585 0.62233046 0.61294225\n",
      " 0.62713162 0.62914949 0.63654659 0.63309426 0.64923727 0.66857571\n",
      " 0.66199219 0.66154258 0.66307873 0.66055237 0.66041856 0.67202805\n",
      " 0.67467751 0.67121983 0.68125033 0.69517208 0.69562704 0.68201574\n",
      " 0.67768024 0.66816892 0.68713269 0.68614783 0.69857089 0.70703848\n",
      " 0.71449446 0.71589145 0.72268908 0.71579511 0.71238024 0.71355778\n",
      " 0.71210191 0.72212171 0.72681047 0.74986351 0.74010063 0.73745651\n",
      " 0.73768131 0.73353316 0.72835198 0.72678371 0.72228764 0.72881229\n",
      " 0.73393995 0.72356153 0.71972917 0.72419312 0.72411818 0.7233956\n",
      " 0.73799711 0.74036825 0.74052882 0.75084836 0.74643259 0.74618102\n",
      " 0.74902318 0.75112669 0.76085746 0.75975486 0.75601349 0.75890917\n",
      " 0.76020982 0.7526575  0.75822941 0.75946582 0.75414548 0.76061125\n",
      " 0.76428839 0.76759086 0.78039394 0.79174651 0.78525933 0.77903977\n",
      " 0.78256169 0.7898785  0.78102018 0.77092544 0.76205641 0.749066\n",
      " 0.76523578 0.77515924 0.7624525  0.76420275 0.75382968 0.7532088\n",
      " 0.76144623 0.76570679 0.76208318 0.75592785 0.75977627 0.77506824\n",
      " 0.78705775 0.78804261 0.78758229 0.79073489 0.79850131 0.8040197\n",
      " 0.82239469 0.82368999 0.82027512 0.81467109 0.81782904 0.8240486\n",
      " 0.82124926 0.82001285 0.82266767 0.81445164 0.80339881 0.79536477\n",
      " 0.77931274 0.79616229 0.80481721 0.79519349 0.79079377 0.78906493\n",
      " 0.79678852 0.7960927  0.79577156 0.78843334 0.79690093 0.79367875\n",
      " 0.79023711 0.78990526 0.78403361 0.77836536 0.78772146 0.79376974\n",
      " 0.7932559  0.81443558 0.81940267 0.82805224 0.82976503 0.83267141\n",
      " 0.83132259 0.83063748 0.84035754 0.83073382 0.8319863  0.82907456\n",
      " 0.82679441 0.81884066 0.82031258 0.8207729  0.82467484 0.84444147\n",
      " 0.85271637 0.85262538 0.86208318 0.85675748 0.85938554 0.8615961\n",
      " 0.87396564 0.87901836 0.87128406 0.87234384 0.86076112 0.8607183\n",
      " 0.87270781 0.90161109 0.9187229  0.92852326 0.92826099 0.92711556\n",
      " 0.92626987 0.93195954 0.94728898 1.         0.99276347 0.98175347\n",
      " 0.98913451 0.98688647 0.98315046 0.98155542 0.99229781 0.95303291\n",
      " 0.92695737 0.90346593]\n",
      "3 day output [[0.8835888]]\n",
      "4 day input [0.61006262 0.60122036 0.59367339 0.59677782 0.59355029 0.59153241\n",
      " 0.59029599 0.58707381 0.58840657 0.59473318 0.60076005 0.62970615\n",
      " 0.6242734  0.62081571 0.62183268 0.6195793  0.60959161 0.60139699\n",
      " 0.60542204 0.6077343  0.61413585 0.62233046 0.61294225 0.62713162\n",
      " 0.62914949 0.63654659 0.63309426 0.64923727 0.66857571 0.66199219\n",
      " 0.66154258 0.66307873 0.66055237 0.66041856 0.67202805 0.67467751\n",
      " 0.67121983 0.68125033 0.69517208 0.69562704 0.68201574 0.67768024\n",
      " 0.66816892 0.68713269 0.68614783 0.69857089 0.70703848 0.71449446\n",
      " 0.71589145 0.72268908 0.71579511 0.71238024 0.71355778 0.71210191\n",
      " 0.72212171 0.72681047 0.74986351 0.74010063 0.73745651 0.73768131\n",
      " 0.73353316 0.72835198 0.72678371 0.72228764 0.72881229 0.73393995\n",
      " 0.72356153 0.71972917 0.72419312 0.72411818 0.7233956  0.73799711\n",
      " 0.74036825 0.74052882 0.75084836 0.74643259 0.74618102 0.74902318\n",
      " 0.75112669 0.76085746 0.75975486 0.75601349 0.75890917 0.76020982\n",
      " 0.7526575  0.75822941 0.75946582 0.75414548 0.76061125 0.76428839\n",
      " 0.76759086 0.78039394 0.79174651 0.78525933 0.77903977 0.78256169\n",
      " 0.7898785  0.78102018 0.77092544 0.76205641 0.749066   0.76523578\n",
      " 0.77515924 0.7624525  0.76420275 0.75382968 0.7532088  0.76144623\n",
      " 0.76570679 0.76208318 0.75592785 0.75977627 0.77506824 0.78705775\n",
      " 0.78804261 0.78758229 0.79073489 0.79850131 0.8040197  0.82239469\n",
      " 0.82368999 0.82027512 0.81467109 0.81782904 0.8240486  0.82124926\n",
      " 0.82001285 0.82266767 0.81445164 0.80339881 0.79536477 0.77931274\n",
      " 0.79616229 0.80481721 0.79519349 0.79079377 0.78906493 0.79678852\n",
      " 0.7960927  0.79577156 0.78843334 0.79690093 0.79367875 0.79023711\n",
      " 0.78990526 0.78403361 0.77836536 0.78772146 0.79376974 0.7932559\n",
      " 0.81443558 0.81940267 0.82805224 0.82976503 0.83267141 0.83132259\n",
      " 0.83063748 0.84035754 0.83073382 0.8319863  0.82907456 0.82679441\n",
      " 0.81884066 0.82031258 0.8207729  0.82467484 0.84444147 0.85271637\n",
      " 0.85262538 0.86208318 0.85675748 0.85938554 0.8615961  0.87396564\n",
      " 0.87901836 0.87128406 0.87234384 0.86076112 0.8607183  0.87270781\n",
      " 0.90161109 0.9187229  0.92852326 0.92826099 0.92711556 0.92626987\n",
      " 0.93195954 0.94728898 1.         0.99276347 0.98175347 0.98913451\n",
      " 0.98688647 0.98315046 0.98155542 0.99229781 0.95303291 0.92695737\n",
      " 0.90346593 0.88358879]\n"
     ]
    },
    {
     "name": "stdout",
     "output_type": "stream",
     "text": [
      "4 day output [[0.8661788]]\n",
      "5 day input [0.60122036 0.59367339 0.59677782 0.59355029 0.59153241 0.59029599\n",
      " 0.58707381 0.58840657 0.59473318 0.60076005 0.62970615 0.6242734\n",
      " 0.62081571 0.62183268 0.6195793  0.60959161 0.60139699 0.60542204\n",
      " 0.6077343  0.61413585 0.62233046 0.61294225 0.62713162 0.62914949\n",
      " 0.63654659 0.63309426 0.64923727 0.66857571 0.66199219 0.66154258\n",
      " 0.66307873 0.66055237 0.66041856 0.67202805 0.67467751 0.67121983\n",
      " 0.68125033 0.69517208 0.69562704 0.68201574 0.67768024 0.66816892\n",
      " 0.68713269 0.68614783 0.69857089 0.70703848 0.71449446 0.71589145\n",
      " 0.72268908 0.71579511 0.71238024 0.71355778 0.71210191 0.72212171\n",
      " 0.72681047 0.74986351 0.74010063 0.73745651 0.73768131 0.73353316\n",
      " 0.72835198 0.72678371 0.72228764 0.72881229 0.73393995 0.72356153\n",
      " 0.71972917 0.72419312 0.72411818 0.7233956  0.73799711 0.74036825\n",
      " 0.74052882 0.75084836 0.74643259 0.74618102 0.74902318 0.75112669\n",
      " 0.76085746 0.75975486 0.75601349 0.75890917 0.76020982 0.7526575\n",
      " 0.75822941 0.75946582 0.75414548 0.76061125 0.76428839 0.76759086\n",
      " 0.78039394 0.79174651 0.78525933 0.77903977 0.78256169 0.7898785\n",
      " 0.78102018 0.77092544 0.76205641 0.749066   0.76523578 0.77515924\n",
      " 0.7624525  0.76420275 0.75382968 0.7532088  0.76144623 0.76570679\n",
      " 0.76208318 0.75592785 0.75977627 0.77506824 0.78705775 0.78804261\n",
      " 0.78758229 0.79073489 0.79850131 0.8040197  0.82239469 0.82368999\n",
      " 0.82027512 0.81467109 0.81782904 0.8240486  0.82124926 0.82001285\n",
      " 0.82266767 0.81445164 0.80339881 0.79536477 0.77931274 0.79616229\n",
      " 0.80481721 0.79519349 0.79079377 0.78906493 0.79678852 0.7960927\n",
      " 0.79577156 0.78843334 0.79690093 0.79367875 0.79023711 0.78990526\n",
      " 0.78403361 0.77836536 0.78772146 0.79376974 0.7932559  0.81443558\n",
      " 0.81940267 0.82805224 0.82976503 0.83267141 0.83132259 0.83063748\n",
      " 0.84035754 0.83073382 0.8319863  0.82907456 0.82679441 0.81884066\n",
      " 0.82031258 0.8207729  0.82467484 0.84444147 0.85271637 0.85262538\n",
      " 0.86208318 0.85675748 0.85938554 0.8615961  0.87396564 0.87901836\n",
      " 0.87128406 0.87234384 0.86076112 0.8607183  0.87270781 0.90161109\n",
      " 0.9187229  0.92852326 0.92826099 0.92711556 0.92626987 0.93195954\n",
      " 0.94728898 1.         0.99276347 0.98175347 0.98913451 0.98688647\n",
      " 0.98315046 0.98155542 0.99229781 0.95303291 0.92695737 0.90346593\n",
      " 0.88358879 0.86617881]\n",
      "5 day output [[0.8502811]]\n",
      "6 day input [0.59367339 0.59677782 0.59355029 0.59153241 0.59029599 0.58707381\n",
      " 0.58840657 0.59473318 0.60076005 0.62970615 0.6242734  0.62081571\n",
      " 0.62183268 0.6195793  0.60959161 0.60139699 0.60542204 0.6077343\n",
      " 0.61413585 0.62233046 0.61294225 0.62713162 0.62914949 0.63654659\n",
      " 0.63309426 0.64923727 0.66857571 0.66199219 0.66154258 0.66307873\n",
      " 0.66055237 0.66041856 0.67202805 0.67467751 0.67121983 0.68125033\n",
      " 0.69517208 0.69562704 0.68201574 0.67768024 0.66816892 0.68713269\n",
      " 0.68614783 0.69857089 0.70703848 0.71449446 0.71589145 0.72268908\n",
      " 0.71579511 0.71238024 0.71355778 0.71210191 0.72212171 0.72681047\n",
      " 0.74986351 0.74010063 0.73745651 0.73768131 0.73353316 0.72835198\n",
      " 0.72678371 0.72228764 0.72881229 0.73393995 0.72356153 0.71972917\n",
      " 0.72419312 0.72411818 0.7233956  0.73799711 0.74036825 0.74052882\n",
      " 0.75084836 0.74643259 0.74618102 0.74902318 0.75112669 0.76085746\n",
      " 0.75975486 0.75601349 0.75890917 0.76020982 0.7526575  0.75822941\n",
      " 0.75946582 0.75414548 0.76061125 0.76428839 0.76759086 0.78039394\n",
      " 0.79174651 0.78525933 0.77903977 0.78256169 0.7898785  0.78102018\n",
      " 0.77092544 0.76205641 0.749066   0.76523578 0.77515924 0.7624525\n",
      " 0.76420275 0.75382968 0.7532088  0.76144623 0.76570679 0.76208318\n",
      " 0.75592785 0.75977627 0.77506824 0.78705775 0.78804261 0.78758229\n",
      " 0.79073489 0.79850131 0.8040197  0.82239469 0.82368999 0.82027512\n",
      " 0.81467109 0.81782904 0.8240486  0.82124926 0.82001285 0.82266767\n",
      " 0.81445164 0.80339881 0.79536477 0.77931274 0.79616229 0.80481721\n",
      " 0.79519349 0.79079377 0.78906493 0.79678852 0.7960927  0.79577156\n",
      " 0.78843334 0.79690093 0.79367875 0.79023711 0.78990526 0.78403361\n",
      " 0.77836536 0.78772146 0.79376974 0.7932559  0.81443558 0.81940267\n",
      " 0.82805224 0.82976503 0.83267141 0.83132259 0.83063748 0.84035754\n",
      " 0.83073382 0.8319863  0.82907456 0.82679441 0.81884066 0.82031258\n",
      " 0.8207729  0.82467484 0.84444147 0.85271637 0.85262538 0.86208318\n",
      " 0.85675748 0.85938554 0.8615961  0.87396564 0.87901836 0.87128406\n",
      " 0.87234384 0.86076112 0.8607183  0.87270781 0.90161109 0.9187229\n",
      " 0.92852326 0.92826099 0.92711556 0.92626987 0.93195954 0.94728898\n",
      " 1.         0.99276347 0.98175347 0.98913451 0.98688647 0.98315046\n",
      " 0.98155542 0.99229781 0.95303291 0.92695737 0.90346593 0.88358879\n",
      " 0.86617881 0.85028112]\n",
      "6 day output [[0.8351304]]\n",
      "7 day input [0.59677782 0.59355029 0.59153241 0.59029599 0.58707381 0.58840657\n",
      " 0.59473318 0.60076005 0.62970615 0.6242734  0.62081571 0.62183268\n",
      " 0.6195793  0.60959161 0.60139699 0.60542204 0.6077343  0.61413585\n",
      " 0.62233046 0.61294225 0.62713162 0.62914949 0.63654659 0.63309426\n",
      " 0.64923727 0.66857571 0.66199219 0.66154258 0.66307873 0.66055237\n",
      " 0.66041856 0.67202805 0.67467751 0.67121983 0.68125033 0.69517208\n",
      " 0.69562704 0.68201574 0.67768024 0.66816892 0.68713269 0.68614783\n",
      " 0.69857089 0.70703848 0.71449446 0.71589145 0.72268908 0.71579511\n",
      " 0.71238024 0.71355778 0.71210191 0.72212171 0.72681047 0.74986351\n",
      " 0.74010063 0.73745651 0.73768131 0.73353316 0.72835198 0.72678371\n",
      " 0.72228764 0.72881229 0.73393995 0.72356153 0.71972917 0.72419312\n",
      " 0.72411818 0.7233956  0.73799711 0.74036825 0.74052882 0.75084836\n",
      " 0.74643259 0.74618102 0.74902318 0.75112669 0.76085746 0.75975486\n",
      " 0.75601349 0.75890917 0.76020982 0.7526575  0.75822941 0.75946582\n",
      " 0.75414548 0.76061125 0.76428839 0.76759086 0.78039394 0.79174651\n",
      " 0.78525933 0.77903977 0.78256169 0.7898785  0.78102018 0.77092544\n",
      " 0.76205641 0.749066   0.76523578 0.77515924 0.7624525  0.76420275\n",
      " 0.75382968 0.7532088  0.76144623 0.76570679 0.76208318 0.75592785\n",
      " 0.75977627 0.77506824 0.78705775 0.78804261 0.78758229 0.79073489\n",
      " 0.79850131 0.8040197  0.82239469 0.82368999 0.82027512 0.81467109\n",
      " 0.81782904 0.8240486  0.82124926 0.82001285 0.82266767 0.81445164\n",
      " 0.80339881 0.79536477 0.77931274 0.79616229 0.80481721 0.79519349\n",
      " 0.79079377 0.78906493 0.79678852 0.7960927  0.79577156 0.78843334\n",
      " 0.79690093 0.79367875 0.79023711 0.78990526 0.78403361 0.77836536\n",
      " 0.78772146 0.79376974 0.7932559  0.81443558 0.81940267 0.82805224\n",
      " 0.82976503 0.83267141 0.83132259 0.83063748 0.84035754 0.83073382\n",
      " 0.8319863  0.82907456 0.82679441 0.81884066 0.82031258 0.8207729\n",
      " 0.82467484 0.84444147 0.85271637 0.85262538 0.86208318 0.85675748\n",
      " 0.85938554 0.8615961  0.87396564 0.87901836 0.87128406 0.87234384\n",
      " 0.86076112 0.8607183  0.87270781 0.90161109 0.9187229  0.92852326\n",
      " 0.92826099 0.92711556 0.92626987 0.93195954 0.94728898 1.\n",
      " 0.99276347 0.98175347 0.98913451 0.98688647 0.98315046 0.98155542\n",
      " 0.99229781 0.95303291 0.92695737 0.90346593 0.88358879 0.86617881\n",
      " 0.85028112 0.83513039]\n",
      "7 day output [[0.82027376]]\n",
      "8 day input [0.59355029 0.59153241 0.59029599 0.58707381 0.58840657 0.59473318\n",
      " 0.60076005 0.62970615 0.6242734  0.62081571 0.62183268 0.6195793\n",
      " 0.60959161 0.60139699 0.60542204 0.6077343  0.61413585 0.62233046\n",
      " 0.61294225 0.62713162 0.62914949 0.63654659 0.63309426 0.64923727\n",
      " 0.66857571 0.66199219 0.66154258 0.66307873 0.66055237 0.66041856\n",
      " 0.67202805 0.67467751 0.67121983 0.68125033 0.69517208 0.69562704\n",
      " 0.68201574 0.67768024 0.66816892 0.68713269 0.68614783 0.69857089\n",
      " 0.70703848 0.71449446 0.71589145 0.72268908 0.71579511 0.71238024\n",
      " 0.71355778 0.71210191 0.72212171 0.72681047 0.74986351 0.74010063\n",
      " 0.73745651 0.73768131 0.73353316 0.72835198 0.72678371 0.72228764\n",
      " 0.72881229 0.73393995 0.72356153 0.71972917 0.72419312 0.72411818\n",
      " 0.7233956  0.73799711 0.74036825 0.74052882 0.75084836 0.74643259\n",
      " 0.74618102 0.74902318 0.75112669 0.76085746 0.75975486 0.75601349\n",
      " 0.75890917 0.76020982 0.7526575  0.75822941 0.75946582 0.75414548\n",
      " 0.76061125 0.76428839 0.76759086 0.78039394 0.79174651 0.78525933\n",
      " 0.77903977 0.78256169 0.7898785  0.78102018 0.77092544 0.76205641\n",
      " 0.749066   0.76523578 0.77515924 0.7624525  0.76420275 0.75382968\n",
      " 0.7532088  0.76144623 0.76570679 0.76208318 0.75592785 0.75977627\n",
      " 0.77506824 0.78705775 0.78804261 0.78758229 0.79073489 0.79850131\n",
      " 0.8040197  0.82239469 0.82368999 0.82027512 0.81467109 0.81782904\n",
      " 0.8240486  0.82124926 0.82001285 0.82266767 0.81445164 0.80339881\n",
      " 0.79536477 0.77931274 0.79616229 0.80481721 0.79519349 0.79079377\n",
      " 0.78906493 0.79678852 0.7960927  0.79577156 0.78843334 0.79690093\n",
      " 0.79367875 0.79023711 0.78990526 0.78403361 0.77836536 0.78772146\n",
      " 0.79376974 0.7932559  0.81443558 0.81940267 0.82805224 0.82976503\n",
      " 0.83267141 0.83132259 0.83063748 0.84035754 0.83073382 0.8319863\n",
      " 0.82907456 0.82679441 0.81884066 0.82031258 0.8207729  0.82467484\n",
      " 0.84444147 0.85271637 0.85262538 0.86208318 0.85675748 0.85938554\n",
      " 0.8615961  0.87396564 0.87901836 0.87128406 0.87234384 0.86076112\n",
      " 0.8607183  0.87270781 0.90161109 0.9187229  0.92852326 0.92826099\n",
      " 0.92711556 0.92626987 0.93195954 0.94728898 1.         0.99276347\n",
      " 0.98175347 0.98913451 0.98688647 0.98315046 0.98155542 0.99229781\n",
      " 0.95303291 0.92695737 0.90346593 0.88358879 0.86617881 0.85028112\n",
      " 0.83513039 0.82027376]\n"
     ]
    },
    {
     "name": "stdout",
     "output_type": "stream",
     "text": [
      "8 day output [[0.8055483]]\n",
      "9 day input [0.59153241 0.59029599 0.58707381 0.58840657 0.59473318 0.60076005\n",
      " 0.62970615 0.6242734  0.62081571 0.62183268 0.6195793  0.60959161\n",
      " 0.60139699 0.60542204 0.6077343  0.61413585 0.62233046 0.61294225\n",
      " 0.62713162 0.62914949 0.63654659 0.63309426 0.64923727 0.66857571\n",
      " 0.66199219 0.66154258 0.66307873 0.66055237 0.66041856 0.67202805\n",
      " 0.67467751 0.67121983 0.68125033 0.69517208 0.69562704 0.68201574\n",
      " 0.67768024 0.66816892 0.68713269 0.68614783 0.69857089 0.70703848\n",
      " 0.71449446 0.71589145 0.72268908 0.71579511 0.71238024 0.71355778\n",
      " 0.71210191 0.72212171 0.72681047 0.74986351 0.74010063 0.73745651\n",
      " 0.73768131 0.73353316 0.72835198 0.72678371 0.72228764 0.72881229\n",
      " 0.73393995 0.72356153 0.71972917 0.72419312 0.72411818 0.7233956\n",
      " 0.73799711 0.74036825 0.74052882 0.75084836 0.74643259 0.74618102\n",
      " 0.74902318 0.75112669 0.76085746 0.75975486 0.75601349 0.75890917\n",
      " 0.76020982 0.7526575  0.75822941 0.75946582 0.75414548 0.76061125\n",
      " 0.76428839 0.76759086 0.78039394 0.79174651 0.78525933 0.77903977\n",
      " 0.78256169 0.7898785  0.78102018 0.77092544 0.76205641 0.749066\n",
      " 0.76523578 0.77515924 0.7624525  0.76420275 0.75382968 0.7532088\n",
      " 0.76144623 0.76570679 0.76208318 0.75592785 0.75977627 0.77506824\n",
      " 0.78705775 0.78804261 0.78758229 0.79073489 0.79850131 0.8040197\n",
      " 0.82239469 0.82368999 0.82027512 0.81467109 0.81782904 0.8240486\n",
      " 0.82124926 0.82001285 0.82266767 0.81445164 0.80339881 0.79536477\n",
      " 0.77931274 0.79616229 0.80481721 0.79519349 0.79079377 0.78906493\n",
      " 0.79678852 0.7960927  0.79577156 0.78843334 0.79690093 0.79367875\n",
      " 0.79023711 0.78990526 0.78403361 0.77836536 0.78772146 0.79376974\n",
      " 0.7932559  0.81443558 0.81940267 0.82805224 0.82976503 0.83267141\n",
      " 0.83132259 0.83063748 0.84035754 0.83073382 0.8319863  0.82907456\n",
      " 0.82679441 0.81884066 0.82031258 0.8207729  0.82467484 0.84444147\n",
      " 0.85271637 0.85262538 0.86208318 0.85675748 0.85938554 0.8615961\n",
      " 0.87396564 0.87901836 0.87128406 0.87234384 0.86076112 0.8607183\n",
      " 0.87270781 0.90161109 0.9187229  0.92852326 0.92826099 0.92711556\n",
      " 0.92626987 0.93195954 0.94728898 1.         0.99276347 0.98175347\n",
      " 0.98913451 0.98688647 0.98315046 0.98155542 0.99229781 0.95303291\n",
      " 0.92695737 0.90346593 0.88358879 0.86617881 0.85028112 0.83513039\n",
      " 0.82027376 0.80554831]\n",
      "9 day output [[0.79098904]]\n",
      "[[0.953032910823822], [0.926957368850708], [0.9034659266471863], [0.8835887908935547], [0.8661788105964661], [0.8502811193466187], [0.8351303935050964], [0.820273756980896], [0.8055483102798462], [0.7909890413284302]]\n"
     ]
    }
   ],
   "source": [
    "from numpy import array\n",
    "\n",
    "out=[]\n",
    "lst_output = []\n",
    "n_step = 200\n",
    "i=0\n",
    "while(i<10):\n",
    "    if(len(temp_input)>200):\n",
    "        x_input = np.array(temp_input[1:])\n",
    "        print('{} day input {}'.format(i, x_input))\n",
    "        x_input = x_input.reshape(1, -1)\n",
    "        x_input = x_input.reshape((1, n_step, 1))\n",
    "        yhat= model.predict(x_input, verbose=0)\n",
    "        out.append(yhat)\n",
    "        print('{} day output {}'.format(i, yhat))\n",
    "        temp_input.extend(yhat[0].tolist())\n",
    "        temp_input = temp_input[1:]\n",
    "        lst_output.extend(yhat.tolist())\n",
    "        i = i+1\n",
    "    else:\n",
    "        x_input = x_input.reshape((1, n_step, 1))\n",
    "        yhat =model.predict(x_input, verbose=0)\n",
    "        print(yhat[0])\n",
    "        out.append(yhat)\n",
    "        temp_input.extend(yhat[0].tolist())\n",
    "        print(len(temp_input))\n",
    "        lst_output.extend(yhat.tolist())\n",
    "        i=i+1\n",
    "        \n",
    "print(lst_output)                    "
   ]
  },
  {
   "cell_type": "code",
   "execution_count": 171,
   "metadata": {},
   "outputs": [],
   "source": [
    "out_list = [l.tolist() for l in out]"
   ]
  },
  {
   "cell_type": "code",
   "execution_count": 172,
   "metadata": {},
   "outputs": [
    {
     "data": {
      "text/plain": [
       "[[[0.953032910823822]],\n",
       " [[0.926957368850708]],\n",
       " [[0.9034659266471863]],\n",
       " [[0.8835887908935547]],\n",
       " [[0.8661788105964661]],\n",
       " [[0.8502811193466187]],\n",
       " [[0.8351303935050964]],\n",
       " [[0.820273756980896]],\n",
       " [[0.8055483102798462]],\n",
       " [[0.7909890413284302]]]"
      ]
     },
     "execution_count": 172,
     "metadata": {},
     "output_type": "execute_result"
    }
   ],
   "source": [
    "out_list"
   ]
  },
  {
   "cell_type": "code",
   "execution_count": 178,
   "metadata": {},
   "outputs": [],
   "source": [
    "# ***suggestion to buy or sell***"
   ]
  },
  {
   "cell_type": "code",
   "execution_count": 176,
   "metadata": {},
   "outputs": [],
   "source": [
    "def which_order(list1):\n",
    "    isAscending = True\n",
    "    isDescending = True\n",
    "    for i in range(1,len(list1)):\n",
    "        if(list1[i] >= list1[i-1]):\n",
    "            isDescending = False\n",
    "        elif(list1[i] <= list1[i-1]):\n",
    "            isAscending = False\n",
    "        if((not isAscending) and (not isDescending)):\n",
    "            print(\"The list is not sorted in either order. no suggention! :)\")\n",
    "            break\n",
    "    if(isAscending):\n",
    "        print(\"The price is in ascending order, it's better to 'sell'\")\n",
    "    if(isDescending):\n",
    "        print(\"The price is in descending order, it's better to 'buy'\")"
   ]
  },
  {
   "cell_type": "code",
   "execution_count": 177,
   "metadata": {},
   "outputs": [
    {
     "name": "stdout",
     "output_type": "stream",
     "text": [
      "The price is in descending order, it's better to 'buy'\n"
     ]
    }
   ],
   "source": [
    "which_order(out_list)"
   ]
  },
  {
   "cell_type": "code",
   "execution_count": null,
   "metadata": {},
   "outputs": [],
   "source": []
  },
  {
   "cell_type": "code",
   "execution_count": null,
   "metadata": {},
   "outputs": [],
   "source": []
  },
  {
   "cell_type": "code",
   "execution_count": null,
   "metadata": {},
   "outputs": [],
   "source": []
  }
 ],
 "metadata": {
  "kernelspec": {
   "display_name": "Python 3",
   "language": "python",
   "name": "python3"
  },
  "language_info": {
   "codemirror_mode": {
    "name": "ipython",
    "version": 3
   },
   "file_extension": ".py",
   "mimetype": "text/x-python",
   "name": "python",
   "nbconvert_exporter": "python",
   "pygments_lexer": "ipython3",
   "version": "3.8.3"
  }
 },
 "nbformat": 4,
 "nbformat_minor": 4
}
